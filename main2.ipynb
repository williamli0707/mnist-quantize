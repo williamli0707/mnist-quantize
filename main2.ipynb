{
 "cells": [
  {
   "cell_type": "code",
   "id": "initial_id",
   "metadata": {
    "collapsed": true
   },
   "source": [
    "import tensorflow as tf\n",
    "import tensorflow_model_optimization as tfmot\n",
    "import seaborn as sns\n",
    "import numpy as np\n",
    "import matplotlib.pyplot as plt\n",
    "from skimage import transform\n",
    "from tensorflow_model_optimization.quantization.keras import quantize_annotate_layer, quantize_apply\n",
    "\n",
    "\n",
    "# from tensorflow.keras import layers\n",
    "# from tensorflow_model_optimization.quantization.keras import quantize_model, QuantizeConfig\n",
    "# from tensorflow_model_optimization.quantization.keras.default_8bit import Default8BitQuantizeScheme\n",
    "\n",
    "print(tf.__version__)"
   ],
   "outputs": [],
   "execution_count": null
  },
  {
   "metadata": {},
   "cell_type": "code",
   "source": "(x_train, y_train), (x_test, y_test) = tf.keras.datasets.mnist.load_data()",
   "id": "3b2ffe06dd826d3b",
   "outputs": [],
   "execution_count": null
  },
  {
   "metadata": {},
   "cell_type": "code",
   "source": [
    "# print(x_train[0])\n",
    "print(x_train.shape)\n",
    "x_train = transform.resize(x_train, (x_train.shape[0], 16, 16, 1))\n",
    "x_test = transform.resize(x_test, (x_test.shape[0], 16, 16, 1))\n",
    "x_train *= 256\n",
    "x_train -= 128\n",
    "x_train = x_train.astype(np.int8)\n",
    "x_test *= 256\n",
    "x_test -= 128\n",
    "x_test = x_train.astype(np.int8)\n",
    "# print(x_train[0])"
   ],
   "id": "8c13430e6a8589e6",
   "outputs": [],
   "execution_count": null
  },
  {
   "metadata": {},
   "cell_type": "code",
   "source": "plt.imshow(x_train[0][:, :, 0], cmap='gray')",
   "id": "e8ebb32676311207",
   "outputs": [],
   "execution_count": null
  },
  {
   "metadata": {},
   "cell_type": "code",
   "source": [
    "y_train = tf.one_hot(y_train.astype(np.int32), depth=10)\n",
    "y_test = tf.one_hot(y_test.astype(np.int32), depth=10)\n",
    "x_train_flat = x_train.reshape(x_train.shape[0], -1)  # Reshapes to (60000, 784)\n",
    "x_test_flat = x_test.reshape(x_test.shape[0], -1)  # Reshapes to (10000, 784)"
   ],
   "id": "978ddf621f2ed3ae",
   "outputs": [],
   "execution_count": null
  },
  {
   "metadata": {},
   "cell_type": "code",
   "source": [
    "model = tf.keras.models.Sequential([\n",
    "    quantize_annotate_layer(tf.keras.layers.Dense(32, activation='relu', dtype=tf.float16)),\n",
    "    quantize_annotate_layer(tf.keras.layers.Dense(32, activation='relu', dtype=tf.float16)),\n",
    "    quantize_annotate_layer(tf.keras.layers.Dense(10, activation='softmax', dtype=tf.float16))\n",
    "])\n",
    "\n",
    "model.compile(optimizer=tf.keras.optimizers.legacy.RMSprop(epsilon=1e-08), loss='categorical_crossentropy', metrics=['acc'])"
   ],
   "id": "a1aec9973593c7f9",
   "outputs": [],
   "execution_count": null
  },
  {
   "metadata": {},
   "cell_type": "code",
   "source": [
    "batch_size = 64\n",
    "num_classes = 10\n",
    "epochs = 5\n",
    "history = model.fit(x_train_flat, y_train,\n",
    "                    batch_size=batch_size,\n",
    "                    epochs=epochs,\n",
    "                    validation_split=0.1,\n",
    "                    callbacks=[])"
   ],
   "id": "56ca7178ed8cc11a",
   "outputs": [],
   "execution_count": null
  },
  {
   "metadata": {},
   "cell_type": "markdown",
   "source": "",
   "id": "fa81c4dd02c3fafd"
  },
  {
   "metadata": {},
   "cell_type": "code",
   "source": [
    "quantized_model = quantize_apply(model)\n",
    "quantized_model.compile(optimizer=tf.keras.optimizers.legacy.RMSprop(epsilon=1e-08), loss='categorical_crossentropy', metrics=['acc'])"
   ],
   "id": "42a155b71e043124",
   "outputs": [],
   "execution_count": null
  },
  {
   "metadata": {},
   "cell_type": "code",
   "source": [
    "np.set_printoptions(threshold=np.inf)\n",
    "\n",
    "with open(\"weights_quantized.txt\", \"w\") as f:\n",
    "    for layer in quantized_model.layers:\n",
    "        try:\n",
    "            weights, biases = layer.get_weights()\n",
    "            f.write(f\"Weights for layer {layer.name}: {weights}\\n\")\n",
    "            f.write(f\"Biases for layer {layer.name}: {biases}\\n\")\n",
    "        except: \n",
    "            pass\n",
    "        finally:\n",
    "            print(layer.get_weights())"
   ],
   "id": "45e25e7b7899009e",
   "outputs": [],
   "execution_count": null
  }
 ],
 "metadata": {
  "kernelspec": {
   "display_name": "Python 3",
   "language": "python",
   "name": "python3"
  },
  "language_info": {
   "codemirror_mode": {
    "name": "ipython",
    "version": 2
   },
   "file_extension": ".py",
   "mimetype": "text/x-python",
   "name": "python",
   "nbconvert_exporter": "python",
   "pygments_lexer": "ipython2",
   "version": "2.7.6"
  }
 },
 "nbformat": 4,
 "nbformat_minor": 5
}
