{
 "cells": [
  {
   "cell_type": "code",
   "id": "initial_id",
   "metadata": {
    "collapsed": true,
    "ExecuteTime": {
     "end_time": "2024-08-27T16:59:43.520723Z",
     "start_time": "2024-08-27T16:59:43.499069Z"
    }
   },
   "source": [
    "import tensorflow as tf\n",
    "import tensorflow_model_optimization as tfmot\n",
    "import seaborn as sns\n",
    "import numpy as np\n",
    "import matplotlib.pyplot as plt\n",
    "from skimage import transform\n",
    "from tensorflow_model_optimization.quantization.keras import quantize_annotate_layer, quantize_apply\n",
    "\n",
    "\n",
    "# from tensorflow.keras import layers\n",
    "# from tensorflow_model_optimization.quantization.keras import quantize_model, QuantizeConfig\n",
    "# from tensorflow_model_optimization.quantization.keras.default_8bit import Default8BitQuantizeScheme\n",
    "import sys\n",
    "\n",
    "print(sys.version)\n",
    "print(tf.__version__)"
   ],
   "outputs": [
    {
     "ename": "ModuleNotFoundError",
     "evalue": "No module named 'tensorflow'",
     "output_type": "error",
     "traceback": [
      "\u001B[0;31m---------------------------------------------------------------------------\u001B[0m",
      "\u001B[0;31mModuleNotFoundError\u001B[0m                       Traceback (most recent call last)",
      "Cell \u001B[0;32mIn[2], line 1\u001B[0m\n\u001B[0;32m----> 1\u001B[0m \u001B[38;5;28;01mimport\u001B[39;00m \u001B[38;5;21;01mtensorflow\u001B[39;00m \u001B[38;5;28;01mas\u001B[39;00m \u001B[38;5;21;01mtf\u001B[39;00m\n\u001B[1;32m      2\u001B[0m \u001B[38;5;28;01mimport\u001B[39;00m \u001B[38;5;21;01mtensorflow_model_optimization\u001B[39;00m \u001B[38;5;28;01mas\u001B[39;00m \u001B[38;5;21;01mtfmot\u001B[39;00m\n\u001B[1;32m      3\u001B[0m \u001B[38;5;28;01mimport\u001B[39;00m \u001B[38;5;21;01mseaborn\u001B[39;00m \u001B[38;5;28;01mas\u001B[39;00m \u001B[38;5;21;01msns\u001B[39;00m\n",
      "\u001B[0;31mModuleNotFoundError\u001B[0m: No module named 'tensorflow'"
     ]
    }
   ],
   "execution_count": 2
  },
  {
   "metadata": {
    "jupyter": {
     "is_executing": true
    }
   },
   "cell_type": "code",
   "source": "(x_train, y_train), (x_test, y_test) = tf.keras.datasets.mnist.load_data()",
   "id": "3b2ffe06dd826d3b",
   "outputs": [],
   "execution_count": null
  },
  {
   "metadata": {
    "ExecuteTime": {
     "end_time": "2024-08-27T16:59:41.005877Z",
     "start_time": "2024-08-27T16:59:40.994976Z"
    }
   },
   "cell_type": "code",
   "source": [
    "print(x_train[0])\n",
    "print(x_train.shape)\n",
    "x_train = transform.resize(x_train, (x_train.shape[0], 16, 16, 1))\n",
    "x_test = transform.resize(x_test, (x_test.shape[0], 16, 16, 1))\n",
    "x_train *= 256\n",
    "x_train -= 128\n",
    "x_train = x_train.astype(np.int8)\n",
    "x_test *= 256\n",
    "x_test -= 128\n",
    "x_test = x_train.astype(np.int8)\n",
    "print(x_train[0])"
   ],
   "id": "8c13430e6a8589e6",
   "outputs": [
    {
     "ename": "NameError",
     "evalue": "name 'x_train' is not defined",
     "output_type": "error",
     "traceback": [
      "\u001B[0;31m---------------------------------------------------------------------------\u001B[0m",
      "\u001B[0;31mNameError\u001B[0m                                 Traceback (most recent call last)",
      "Cell \u001B[0;32mIn[1], line 1\u001B[0m\n\u001B[0;32m----> 1\u001B[0m \u001B[38;5;28mprint\u001B[39m(\u001B[43mx_train\u001B[49m[\u001B[38;5;241m0\u001B[39m])\n\u001B[1;32m      2\u001B[0m \u001B[38;5;28mprint\u001B[39m(x_train\u001B[38;5;241m.\u001B[39mshape)\n\u001B[1;32m      3\u001B[0m x_train \u001B[38;5;241m=\u001B[39m transform\u001B[38;5;241m.\u001B[39mresize(x_train, (x_train\u001B[38;5;241m.\u001B[39mshape[\u001B[38;5;241m0\u001B[39m], \u001B[38;5;241m16\u001B[39m, \u001B[38;5;241m16\u001B[39m, \u001B[38;5;241m1\u001B[39m))\n",
      "\u001B[0;31mNameError\u001B[0m: name 'x_train' is not defined"
     ]
    }
   ],
   "execution_count": 1
  },
  {
   "metadata": {
    "ExecuteTime": {
     "end_time": "2024-08-27T16:54:04.395912Z",
     "start_time": "2024-08-27T16:54:04.271634Z"
    }
   },
   "cell_type": "code",
   "source": "plt.imshow(x_train[0][:, :, 0], cmap='gray')",
   "id": "e8ebb32676311207",
   "outputs": [
    {
     "data": {
      "text/plain": [
       "<matplotlib.image.AxesImage at 0x2825eb990>"
      ]
     },
     "execution_count": 4,
     "metadata": {},
     "output_type": "execute_result"
    },
    {
     "data": {
      "text/plain": [
       "<Figure size 640x480 with 1 Axes>"
      ],
      "image/png": "[encoded data removed]"
     },
     "metadata": {},
     "output_type": "display_data"
    }
   ],
   "execution_count": 4
  },
  {
   "metadata": {
    "ExecuteTime": {
     "end_time": "2024-08-27T16:54:05.369932Z",
     "start_time": "2024-08-27T16:54:05.329297Z"
    }
   },
   "cell_type": "code",
   "source": [
    "y_train = tf.one_hot(y_train.astype(np.int32), depth=10)\n",
    "y_test = tf.one_hot(y_test.astype(np.int32), depth=10)\n",
    "x_train_flat = x_train.reshape(x_train.shape[0], -1)  # Reshapes to (60000, 784)\n",
    "x_test_flat = x_test.reshape(x_test.shape[0], -1)  # Reshapes to (10000, 784)"
   ],
   "id": "978ddf621f2ed3ae",
   "outputs": [],
   "execution_count": 5
  },
  {
   "metadata": {
    "ExecuteTime": {
     "end_time": "2024-08-27T16:54:06.297881Z",
     "start_time": "2024-08-27T16:54:06.275231Z"
    }
   },
   "cell_type": "code",
   "source": [
    "model = tf.keras.models.Sequential([\n",
    "    tf.keras.layers.Dense(32, activation='relu'),\n",
    "    tf.keras.layers.Dense(32, activation='relu'),\n",
    "    tf.keras.layers.Dense(10, activation='relu')\n",
    "])\n",
    "\n",
    "model.compile(optimizer=tf.keras.optimizers.legacy.RMSprop(epsilon=1e-08), loss='categorical_crossentropy', metrics=['acc'])"
   ],
   "id": "a1aec9973593c7f9",
   "outputs": [],
   "execution_count": 6
  },
  {
   "metadata": {
    "ExecuteTime": {
     "end_time": "2024-08-27T16:54:09.435259Z",
     "start_time": "2024-08-27T16:54:06.866528Z"
    }
   },
   "cell_type": "code",
   "source": [
    "batch_size = 64\n",
    "num_classes = 10\n",
    "epochs = 5\n",
    "history = model.fit(x_train_flat, y_train,\n",
    "                    batch_size=batch_size,\n",
    "                    epochs=epochs,\n",
    "                    validation_split=0.1,\n",
    "                    callbacks=[])"
   ],
   "id": "56ca7178ed8cc11a",
   "outputs": [
    {
     "name": "stdout",
     "output_type": "stream",
     "text": [
      "Epoch 1/5\n",
      "844/844 [==============================] - 1s 603us/step - loss: nan - acc: 0.1367 - val_loss: nan - val_acc: 0.0978\n",
      "Epoch 2/5\n",
      "844/844 [==============================] - 0s 535us/step - loss: nan - acc: 0.0988 - val_loss: nan - val_acc: 0.0978\n",
      "Epoch 3/5\n",
      "844/844 [==============================] - 0s 512us/step - loss: nan - acc: 0.0988 - val_loss: nan - val_acc: 0.0978\n",
      "Epoch 4/5\n",
      "844/844 [==============================] - 0s 506us/step - loss: nan - acc: 0.0988 - val_loss: nan - val_acc: 0.0978\n",
      "Epoch 5/5\n",
      "844/844 [==============================] - 0s 538us/step - loss: nan - acc: 0.0988 - val_loss: nan - val_acc: 0.0978\n"
     ]
    }
   ],
   "execution_count": 7
  },
  {
   "metadata": {
    "ExecuteTime": {
     "end_time": "2024-08-01T19:22:04.106022Z",
     "start_time": "2024-08-01T19:22:04.101577Z"
    }
   },
   "cell_type": "code",
   "source": [
    "# def representative_dataset():\n",
    "#   for data in x_test:\n",
    "#     yield {\n",
    "#       \"image\": data.image,\n",
    "#       \"bias\": data.bias,\n",
    "#     }\n",
    "\n",
    "def representative_dataset():\n",
    "    for _ in range(100):\n",
    "      data = np.random.rand(1, 256) * 256 - 128\n",
    "      yield [data.astype(np.int8)]"
   ],
   "id": "88a8098a2493fe9a",
   "outputs": [],
   "execution_count": 16
  },
  {
   "metadata": {
    "ExecuteTime": {
     "end_time": "2024-08-27T16:50:55.943985Z",
     "start_time": "2024-08-27T16:50:55.682329Z"
    }
   },
   "cell_type": "code",
   "source": [
    "converter = tf.lite.TFLiteConverter.from_keras_model(model)\n",
    "converter.optimizations = [tf.lite.Optimize.DEFAULT]\n",
    "converter.representative_dataset = representative_dataset\n",
    "\n",
    "converter.target_spec.supported_ops = [tf.lite.OpsSet.TFLITE_BUILTINS_INT8]\n",
    "converter.inference_input_type = tf.int8\n",
    "converter.inference_output_type = tf.int8\n",
    "\n",
    "quantized_model = converter.convert()"
   ],
   "id": "42a155b71e043124",
   "outputs": [
    {
     "ename": "NameError",
     "evalue": "name 'representative_dataset' is not defined",
     "output_type": "error",
     "traceback": [
      "\u001B[0;31m---------------------------------------------------------------------------\u001B[0m",
      "\u001B[0;31mNameError\u001B[0m                                 Traceback (most recent call last)",
      "Cell \u001B[0;32mIn[8], line 3\u001B[0m\n\u001B[1;32m      1\u001B[0m converter \u001B[38;5;241m=\u001B[39m tf\u001B[38;5;241m.\u001B[39mlite\u001B[38;5;241m.\u001B[39mTFLiteConverter\u001B[38;5;241m.\u001B[39mfrom_keras_model(model)\n\u001B[1;32m      2\u001B[0m converter\u001B[38;5;241m.\u001B[39moptimizations \u001B[38;5;241m=\u001B[39m [tf\u001B[38;5;241m.\u001B[39mlite\u001B[38;5;241m.\u001B[39mOptimize\u001B[38;5;241m.\u001B[39mDEFAULT]\n\u001B[0;32m----> 3\u001B[0m converter\u001B[38;5;241m.\u001B[39mrepresentative_dataset \u001B[38;5;241m=\u001B[39m \u001B[43mrepresentative_dataset\u001B[49m\n\u001B[1;32m      5\u001B[0m converter\u001B[38;5;241m.\u001B[39mtarget_spec\u001B[38;5;241m.\u001B[39msupported_ops \u001B[38;5;241m=\u001B[39m [tf\u001B[38;5;241m.\u001B[39mlite\u001B[38;5;241m.\u001B[39mOpsSet\u001B[38;5;241m.\u001B[39mTFLITE_BUILTINS_INT8]\n\u001B[1;32m      6\u001B[0m converter\u001B[38;5;241m.\u001B[39minference_input_type \u001B[38;5;241m=\u001B[39m tf\u001B[38;5;241m.\u001B[39mint8\n",
      "\u001B[0;31mNameError\u001B[0m: name 'representative_dataset' is not defined"
     ]
    }
   ],
   "execution_count": 8
  },
  {
   "metadata": {},
   "cell_type": "code",
   "outputs": [],
   "execution_count": null,
   "source": [
    "# SKIP IF RUNNING\n",
    "\n"
   ],
   "id": "ca0b5dbe312c8a1"
  },
  {
   "metadata": {
    "ExecuteTime": {
     "end_time": "2024-08-01T19:22:08.248455Z",
     "start_time": "2024-08-01T19:22:07.812037Z"
    }
   },
   "cell_type": "code",
   "source": [
    "np.set_printoptions(threshold=np.inf)\n",
    "\n",
    "with open(\"weights_quantized.txt\", \"w\") as f:\n",
    "    for layer in quantized_model.layers:\n",
    "        try:\n",
    "            weights, biases = layer.get_weights()\n",
    "            f.write(f\"Weights for layer {layer.name}: {weights}\\n\")\n",
    "            f.write(f\"Biases for layer {layer.name}: {biases}\\n\")\n",
    "        except: \n",
    "            pass\n",
    "        finally:\n",
    "            print(layer.get_weights())"
   ],
   "id": "45e25e7b7899009e",
   "outputs": [
    {
     "ename": "AttributeError",
     "evalue": "'bytes' object has no attribute 'layers'",
     "output_type": "error",
     "traceback": [
      "\u001B[0;31m---------------------------------------------------------------------------\u001B[0m",
      "\u001B[0;31mAttributeError\u001B[0m                            Traceback (most recent call last)",
      "Cell \u001B[0;32mIn[18], line 4\u001B[0m\n\u001B[1;32m      1\u001B[0m np\u001B[38;5;241m.\u001B[39mset_printoptions(threshold\u001B[38;5;241m=\u001B[39mnp\u001B[38;5;241m.\u001B[39minf)\n\u001B[1;32m      3\u001B[0m \u001B[38;5;28;01mwith\u001B[39;00m \u001B[38;5;28mopen\u001B[39m(\u001B[38;5;124m\"\u001B[39m\u001B[38;5;124mweights_quantized.txt\u001B[39m\u001B[38;5;124m\"\u001B[39m, \u001B[38;5;124m\"\u001B[39m\u001B[38;5;124mw\u001B[39m\u001B[38;5;124m\"\u001B[39m) \u001B[38;5;28;01mas\u001B[39;00m f:\n\u001B[0;32m----> 4\u001B[0m     \u001B[38;5;28;01mfor\u001B[39;00m layer \u001B[38;5;129;01min\u001B[39;00m \u001B[43mquantized_model\u001B[49m\u001B[38;5;241;43m.\u001B[39;49m\u001B[43mlayers\u001B[49m:\n\u001B[1;32m      5\u001B[0m         \u001B[38;5;28;01mtry\u001B[39;00m:\n\u001B[1;32m      6\u001B[0m             weights, biases \u001B[38;5;241m=\u001B[39m layer\u001B[38;5;241m.\u001B[39mget_weights()\n",
      "\u001B[0;31mAttributeError\u001B[0m: 'bytes' object has no attribute 'layers'"
     ]
    }
   ],
   "execution_count": 18
  },
  {
   "metadata": {
    "ExecuteTime": {
     "end_time": "2024-08-01T19:22:14.060845Z",
     "start_time": "2024-08-01T19:22:14.056750Z"
    }
   },
   "cell_type": "code",
   "source": [
    "with open(\"quantized_model.tflite\", \"wb\") as f:\n",
    "    f.write(quantized_model)"
   ],
   "id": "731426662979669",
   "outputs": [],
   "execution_count": 19
  },
  {
   "metadata": {
    "ExecuteTime": {
     "end_time": "2024-08-01T19:22:18.670200Z",
     "start_time": "2024-08-01T19:22:18.659343Z"
    }
   },
   "cell_type": "code",
   "source": [
    "interpreter = tf.lite.Interpreter(model_content=quantized_model)\n",
    "interpreter.allocate_tensors()"
   ],
   "id": "e45a1e130eff76b",
   "outputs": [
    {
     "name": "stderr",
     "output_type": "stream",
     "text": [
      "INFO: Created TensorFlow Lite XNNPACK delegate for CPU.\n"
     ]
    }
   ],
   "execution_count": 20
  },
  {
   "metadata": {
    "ExecuteTime": {
     "end_time": "2024-08-01T19:22:21.215393Z",
     "start_time": "2024-08-01T19:22:21.210130Z"
    }
   },
   "cell_type": "code",
   "source": [
    "for detail in interpreter.get_tensor_details():\n",
    "    print(detail)\n",
    "    if 'kernel' in detail['name'] or 'bias' in detail['name']:\n",
    "        weights = interpreter.get_tensor(detail['index'])\n",
    "        print(f\"Weights for {detail['name']}: {weights}\")"
   ],
   "id": "9720e25879c490fe",
   "outputs": [
    {
     "name": "stdout",
     "output_type": "stream",
     "text": [
      "{'name': 'serving_default_dense_input:0', 'index': 0, 'shape': array([  1, 256], dtype=int32), 'shape_signature': array([ -1, 256], dtype=int32), 'dtype': <class 'numpy.int8'>, 'quantization': (0.0, 0), 'quantization_parameters': {'scales': array([], dtype=float32), 'zero_points': array([], dtype=int32), 'quantized_dimension': 0}, 'sparsity_parameters': {}}\n",
      "{'name': 'tfl.pseudo_qconst', 'index': 1, 'shape': array([10], dtype=int32), 'shape_signature': array([10], dtype=int32), 'dtype': <class 'numpy.int32'>, 'quantization': (0.0, 0), 'quantization_parameters': {'scales': array([0.00296325, 0.00275972, 0.00389738, 0.00215799, 0.00357459,\n",
      "       0.00354102, 0.0035162 , 0.00296185, 0.00419865, 0.00408445],\n",
      "      dtype=float32), 'zero_points': array([0, 0, 0, 0, 0, 0, 0, 0, 0, 0], dtype=int32), 'quantized_dimension': 0}, 'sparsity_parameters': {}}\n",
      "{'name': 'tfl.pseudo_qconst1', 'index': 2, 'shape': array([10, 32], dtype=int32), 'shape_signature': array([10, 32], dtype=int32), 'dtype': <class 'numpy.int8'>, 'quantization': (0.0, 0), 'quantization_parameters': {'scales': array([0.00404993, 0.00377175, 0.00532661, 0.00294937, 0.00488546,\n",
      "       0.00483957, 0.00480565, 0.00404801, 0.00573836, 0.00558228],\n",
      "      dtype=float32), 'zero_points': array([0, 0, 0, 0, 0, 0, 0, 0, 0, 0], dtype=int32), 'quantized_dimension': 0}, 'sparsity_parameters': {}}\n",
      "{'name': 'tfl.pseudo_qconst2', 'index': 3, 'shape': array([32], dtype=int32), 'shape_signature': array([32], dtype=int32), 'dtype': <class 'numpy.int32'>, 'quantization': (0.0, 0), 'quantization_parameters': {'scales': array([0.00308074, 0.0030771 , 0.00314427, 0.00285669, 0.00278933,\n",
      "       0.0030051 , 0.00342398, 0.00308222, 0.0031356 , 0.00293018,\n",
      "       0.00313407, 0.0029597 , 0.00334151, 0.00306426, 0.00367203,\n",
      "       0.00282191, 0.00355756, 0.00333269, 0.00255336, 0.00318344,\n",
      "       0.00314723, 0.00260492, 0.00310028, 0.00324708, 0.00434398,\n",
      "       0.00295166, 0.0030432 , 0.00261769, 0.00313778, 0.00349367,\n",
      "       0.00300611, 0.0034827 ], dtype=float32), 'zero_points': array([0, 0, 0, 0, 0, 0, 0, 0, 0, 0, 0, 0, 0, 0, 0, 0, 0, 0, 0, 0, 0, 0,\n",
      "       0, 0, 0, 0, 0, 0, 0, 0, 0, 0], dtype=int32), 'quantized_dimension': 0}, 'sparsity_parameters': {}}\n",
      "{'name': 'tfl.pseudo_qconst3', 'index': 4, 'shape': array([32, 32], dtype=int32), 'shape_signature': array([32, 32], dtype=int32), 'dtype': <class 'numpy.int8'>, 'quantization': (0.0, 0), 'quantization_parameters': {'scales': array([0.00235835, 0.00235556, 0.00240698, 0.00218683, 0.00213527,\n",
      "       0.00230044, 0.0026211 , 0.00235948, 0.00240035, 0.00224309,\n",
      "       0.00239917, 0.00226569, 0.00255797, 0.00234573, 0.00281099,\n",
      "       0.00216021, 0.00272336, 0.00255122, 0.00195463, 0.00243697,\n",
      "       0.00240925, 0.0019941 , 0.00237331, 0.00248568, 0.00332538,\n",
      "       0.00225954, 0.00232961, 0.00200388, 0.00240201, 0.00267445,\n",
      "       0.00230122, 0.00266605], dtype=float32), 'zero_points': array([0, 0, 0, 0, 0, 0, 0, 0, 0, 0, 0, 0, 0, 0, 0, 0, 0, 0, 0, 0, 0, 0,\n",
      "       0, 0, 0, 0, 0, 0, 0, 0, 0, 0], dtype=int32), 'quantized_dimension': 0}, 'sparsity_parameters': {}}\n",
      "{'name': 'tfl.pseudo_qconst4', 'index': 5, 'shape': array([32], dtype=int32), 'shape_signature': array([32], dtype=int32), 'dtype': <class 'numpy.int32'>, 'quantization': (0.0, 0), 'quantization_parameters': {'scales': array([0.00112941, 0.00204825, 0.00146567, 0.0020944 , 0.00121334,\n",
      "       0.00115474, 0.00251055, 0.00211507, 0.00169893, 0.00198482,\n",
      "       0.00152614, 0.00253998, 0.00139462, 0.00130231, 0.00126501,\n",
      "       0.00124594, 0.00183136, 0.00116398, 0.00337295, 0.00194602,\n",
      "       0.00130719, 0.00125474, 0.00144315, 0.00120618, 0.00155676,\n",
      "       0.00235757, 0.0012895 , 0.00178812, 0.00136684, 0.00171659,\n",
      "       0.00125034, 0.00120508], dtype=float32), 'zero_points': array([0, 0, 0, 0, 0, 0, 0, 0, 0, 0, 0, 0, 0, 0, 0, 0, 0, 0, 0, 0, 0, 0,\n",
      "       0, 0, 0, 0, 0, 0, 0, 0, 0, 0], dtype=int32), 'quantized_dimension': 0}, 'sparsity_parameters': {}}\n",
      "{'name': 'tfl.pseudo_qconst5', 'index': 6, 'shape': array([ 32, 256], dtype=int32), 'shape_signature': array([ 32, 256], dtype=int32), 'dtype': <class 'numpy.int8'>, 'quantization': (0.0, 0), 'quantization_parameters': {'scales': array([0.00113385, 0.00205631, 0.00147144, 0.00210265, 0.00121811,\n",
      "       0.00115929, 0.00252044, 0.0021234 , 0.00170562, 0.00199264,\n",
      "       0.00153215, 0.00254998, 0.00140011, 0.00130743, 0.00126999,\n",
      "       0.00125084, 0.00183857, 0.00116857, 0.00338623, 0.00195368,\n",
      "       0.00131233, 0.00125968, 0.00144883, 0.00121093, 0.00156289,\n",
      "       0.00236685, 0.00129457, 0.00179516, 0.00137222, 0.00172335,\n",
      "       0.00125527, 0.00120982], dtype=float32), 'zero_points': array([0, 0, 0, 0, 0, 0, 0, 0, 0, 0, 0, 0, 0, 0, 0, 0, 0, 0, 0, 0, 0, 0,\n",
      "       0, 0, 0, 0, 0, 0, 0, 0, 0, 0], dtype=int32), 'quantized_dimension': 0}, 'sparsity_parameters': {}}\n",
      "{'name': 'sequential/dense/Cast', 'index': 7, 'shape': array([  1, 256], dtype=int32), 'shape_signature': array([ -1, 256], dtype=int32), 'dtype': <class 'numpy.float32'>, 'quantization': (0.0, 0), 'quantization_parameters': {'scales': array([], dtype=float32), 'zero_points': array([], dtype=int32), 'quantized_dimension': 0}, 'sparsity_parameters': {}}\n",
      "{'name': 'tfl.quantize', 'index': 8, 'shape': array([  1, 256], dtype=int32), 'shape_signature': array([ -1, 256], dtype=int32), 'dtype': <class 'numpy.int8'>, 'quantization': (0.9960784316062927, -1), 'quantization_parameters': {'scales': array([0.99607843], dtype=float32), 'zero_points': array([-1], dtype=int32), 'quantized_dimension': 0}, 'sparsity_parameters': {}}\n",
      "{'name': 'sequential/dense/MatMul;sequential/dense/Relu;sequential/dense/BiasAdd', 'index': 9, 'shape': array([ 1, 32], dtype=int32), 'shape_signature': array([-1, 32], dtype=int32), 'dtype': <class 'numpy.int8'>, 'quantization': (1.306312918663025, -128), 'quantization_parameters': {'scales': array([1.3063129], dtype=float32), 'zero_points': array([-128], dtype=int32), 'quantized_dimension': 0}, 'sparsity_parameters': {}}\n",
      "{'name': 'sequential/dense_1/MatMul;sequential/dense_1/Relu;sequential/dense_1/BiasAdd', 'index': 10, 'shape': array([ 1, 32], dtype=int32), 'shape_signature': array([-1, 32], dtype=int32), 'dtype': <class 'numpy.int8'>, 'quantization': (0.7316803932189941, -128), 'quantization_parameters': {'scales': array([0.7316804], dtype=float32), 'zero_points': array([-128], dtype=int32), 'quantized_dimension': 0}, 'sparsity_parameters': {}}\n",
      "{'name': 'sequential/dense_2/MatMul;sequential/dense_2/BiasAdd', 'index': 11, 'shape': array([ 1, 10], dtype=int32), 'shape_signature': array([-1, 10], dtype=int32), 'dtype': <class 'numpy.int8'>, 'quantization': (1.445181131362915, 74), 'quantization_parameters': {'scales': array([1.4451811], dtype=float32), 'zero_points': array([74], dtype=int32), 'quantized_dimension': 0}, 'sparsity_parameters': {}}\n",
      "{'name': 'StatefulPartitionedCall:0', 'index': 12, 'shape': array([ 1, 10], dtype=int32), 'shape_signature': array([-1, 10], dtype=int32), 'dtype': <class 'numpy.int8'>, 'quantization': (0.00390625, -128), 'quantization_parameters': {'scales': array([0.00390625], dtype=float32), 'zero_points': array([-128], dtype=int32), 'quantized_dimension': 0}, 'sparsity_parameters': {}}\n"
     ]
    }
   ],
   "execution_count": 21
  },
  {
   "metadata": {
    "ExecuteTime": {
     "end_time": "2024-08-01T19:22:24.246668Z",
     "start_time": "2024-08-01T19:22:24.189635Z"
    }
   },
   "cell_type": "code",
   "source": [
    "interpreter.set_tensor(interpreter.get_input_details()[0]['index'], x_test_flat[2:3])\n",
    "interpreter.invoke()\n",
    "output = interpreter.get_tensor(interpreter.get_output_details()[0]['index'])\n",
    "print(output)\n",
    "print(model.predict(x_test_flat[2:3]))"
   ],
   "id": "cf4ee6dc5fca1b7f",
   "outputs": [
    {
     "name": "stdout",
     "output_type": "stream",
     "text": [
      "[[-128 -128 -125 -127   99 -128 -128 -115 -128 -115]]\n",
      "1/1 [==============================] - 0s 35ms/step\n",
      "[[1.3699658e-04 3.2315580e-05 5.9951176e-03 7.4129185e-04 8.8706261e-01\n",
      "  3.1710009e-05 4.4171764e-05 4.1481465e-02 1.5146312e-03 6.2959626e-02]]\n"
     ]
    }
   ],
   "execution_count": 22
  },
  {
   "metadata": {},
   "cell_type": "code",
   "source": [
    "# plt.imshow(x_test[0][:, :, 0], cmap='gray')\n",
    "# print(x_test_flat[0:1])\n",
    "\n",
    "test = x_test_flat[2:3]\n",
    "test = test.reshape(16, 16)\n",
    "print(test)\n",
    "print(y_test[3])\n",
    "plt.imshow(test, cmap='gray')"
   ],
   "id": "545017b5daa769b3",
   "outputs": [],
   "execution_count": null
  },
  {
   "metadata": {},
   "cell_type": "code",
   "source": "",
   "id": "d52285ccd0034170",
   "outputs": [],
   "execution_count": null
  },
  {
   "metadata": {},
   "cell_type": "code",
   "source": "\n",
   "id": "eafa60c7c4c65ac2",
   "outputs": [],
   "execution_count": null
  },
  {
   "metadata": {
    "ExecuteTime": {
     "end_time": "2024-08-01T19:21:49.607851Z",
     "start_time": "2024-08-01T19:21:49.593735Z"
    }
   },
   "cell_type": "code",
   "source": "print((np.random.rand(1, 256) * 256 - 128).astype(np.int8))",
   "id": "ad3bcfa1f4217815",
   "outputs": [
    {
     "name": "stdout",
     "output_type": "stream",
     "text": [
      "[[ -72  -45  119   41  -75  -27   46  110   66  -32  -97   43 -103   87\n",
      "   -16  -16  102   13   93  -58    3   -7   61  -43   91 -126   96    3\n",
      "  -108   83  -88   52  -46    0 -124  115  -22  -97  -37   -6 -107 -110\n",
      "     1   29  114  -17  114   97  -14   30   67   61   30   15  -46 -110\n",
      "  -110   86  -12  -91   46  114   19   72  -24  -10   30  -17   38  -91\n",
      "  -103  -17   13    7  102  -18  -64   79  -32  -57 -122  -19   74  -76\n",
      "   -39  -25 -106  101  111   64  -64   33    5 -102  -40 -112 -110   30\n",
      "   -86 -108  -36   -1 -119  120   52  -32  -66  -16   84   90  -59  -90\n",
      "    93   33  -66  -79   36   28   67   10  111   37    2   92   58  -80\n",
      "    57   33  112  -90   56  111   57  -70   70  115  112  -74  -14  -33\n",
      "    87  109   60   13   56  -29  122   40  117   65  103   43  -90 -105\n",
      "    75  -39   74   -9   -6 -120  -75    0  -69   60   61   98 -127  126\n",
      "   -55  -98  -41   -4   54  -28  -35 -115  123  -27   22   11  -73   -4\n",
      "   -15  -87   94  -72   28 -127  124 -104   57    7  -94   67   80   42\n",
      "   -82  -49 -108  113  -35  124 -126   65   12   32  103   51   31    1\n",
      "   -32 -125   31   17 -109  -50  -70   53  -17  -73   35   17   86   34\n",
      "  -104   19  123   50  -32   16   97   34  -63  108   53   33   80  -35\n",
      "    90  -78   -6   -2  -39  -20 -107   18   61  -11  121    0  -23  -14\n",
      "  -110  -23  -94   72]]\n"
     ]
    }
   ],
   "execution_count": 15
  },
  {
   "metadata": {
    "ExecuteTime": {
     "end_time": "2024-08-01T19:47:04.114950Z",
     "start_time": "2024-08-01T19:47:04.002052Z"
    }
   },
   "cell_type": "code",
   "source": [
    "tensor_details = interpreter.get_tensor_details()\n",
    "\n",
    "for dict in tensor_details:\n",
    "    i = dict['index']\n",
    "    tensor_name = dict['name']\n",
    "    scales = dict['quantization_parameters']['scales']\n",
    "    zero_points = dict['quantization_parameters']['zero_points']\n",
    "    tensor = interpreter.tensor(i)()\n",
    "\n",
    "    print(i, type, tensor_name, scales.shape, zero_points.shape, tensor.shape)"
   ],
   "id": "bf8611fd4152b2b8",
   "outputs": [
    {
     "name": "stdout",
     "output_type": "stream",
     "text": [
      "0 <class 'type'> serving_default_dense_input:0 (0,) (0,) (1, 256)\n",
      "1 <class 'type'> tfl.pseudo_qconst (10,) (10,) (10,)\n",
      "2 <class 'type'> tfl.pseudo_qconst1 (10,) (10,) (10, 32)\n",
      "3 <class 'type'> tfl.pseudo_qconst2 (32,) (32,) (32,)\n",
      "4 <class 'type'> tfl.pseudo_qconst3 (32,) (32,) (32, 32)\n",
      "5 <class 'type'> tfl.pseudo_qconst4 (32,) (32,) (32,)\n",
      "6 <class 'type'> tfl.pseudo_qconst5 (32,) (32,) (32, 256)\n",
      "7 <class 'type'> sequential/dense/Cast (0,) (0,) (1, 256)\n"
     ]
    },
    {
     "ename": "ValueError",
     "evalue": "Tensor data is null. Run allocate_tensors() first",
     "output_type": "error",
     "traceback": [
      "\u001B[0;31m---------------------------------------------------------------------------\u001B[0m",
      "\u001B[0;31mValueError\u001B[0m                                Traceback (most recent call last)",
      "Cell \u001B[0;32mIn[23], line 8\u001B[0m\n\u001B[1;32m      6\u001B[0m scales \u001B[38;5;241m=\u001B[39m \u001B[38;5;28mdict\u001B[39m[\u001B[38;5;124m'\u001B[39m\u001B[38;5;124mquantization_parameters\u001B[39m\u001B[38;5;124m'\u001B[39m][\u001B[38;5;124m'\u001B[39m\u001B[38;5;124mscales\u001B[39m\u001B[38;5;124m'\u001B[39m]\n\u001B[1;32m      7\u001B[0m zero_points \u001B[38;5;241m=\u001B[39m \u001B[38;5;28mdict\u001B[39m[\u001B[38;5;124m'\u001B[39m\u001B[38;5;124mquantization_parameters\u001B[39m\u001B[38;5;124m'\u001B[39m][\u001B[38;5;124m'\u001B[39m\u001B[38;5;124mzero_points\u001B[39m\u001B[38;5;124m'\u001B[39m]\n\u001B[0;32m----> 8\u001B[0m tensor \u001B[38;5;241m=\u001B[39m \u001B[43minterpreter\u001B[49m\u001B[38;5;241;43m.\u001B[39;49m\u001B[43mtensor\u001B[49m\u001B[43m(\u001B[49m\u001B[43mi\u001B[49m\u001B[43m)\u001B[49m\u001B[43m(\u001B[49m\u001B[43m)\u001B[49m\n\u001B[1;32m     10\u001B[0m \u001B[38;5;28mprint\u001B[39m(i, \u001B[38;5;28mtype\u001B[39m, tensor_name, scales\u001B[38;5;241m.\u001B[39mshape, zero_points\u001B[38;5;241m.\u001B[39mshape, tensor\u001B[38;5;241m.\u001B[39mshape)\n",
      "File \u001B[0;32m~/PycharmProjects/mnist/venv/lib/python3.11/site-packages/tensorflow/lite/python/interpreter.py:938\u001B[0m, in \u001B[0;36mInterpreter.tensor.<locals>.<lambda>\u001B[0;34m()\u001B[0m\n\u001B[1;32m    890\u001B[0m \u001B[38;5;28;01mdef\u001B[39;00m \u001B[38;5;21mtensor\u001B[39m(\u001B[38;5;28mself\u001B[39m, tensor_index):\n\u001B[1;32m    891\u001B[0m \u001B[38;5;250m  \u001B[39m\u001B[38;5;124;03m\"\"\"Returns function that gives a numpy view of the current tensor buffer.\u001B[39;00m\n\u001B[1;32m    892\u001B[0m \n\u001B[1;32m    893\u001B[0m \u001B[38;5;124;03m  This allows reading and writing to these tensors w/o copies. This more\u001B[39;00m\n\u001B[0;32m   (...)\u001B[0m\n\u001B[1;32m    936\u001B[0m \u001B[38;5;124;03m    but it is not safe to hold the numpy array forever.\u001B[39;00m\n\u001B[1;32m    937\u001B[0m \u001B[38;5;124;03m  \"\"\"\u001B[39;00m\n\u001B[0;32m--> 938\u001B[0m   \u001B[38;5;28;01mreturn\u001B[39;00m \u001B[38;5;28;01mlambda\u001B[39;00m: \u001B[38;5;28;43mself\u001B[39;49m\u001B[38;5;241;43m.\u001B[39;49m\u001B[43m_interpreter\u001B[49m\u001B[38;5;241;43m.\u001B[39;49m\u001B[43mtensor\u001B[49m\u001B[43m(\u001B[49m\u001B[38;5;28;43mself\u001B[39;49m\u001B[38;5;241;43m.\u001B[39;49m\u001B[43m_interpreter\u001B[49m\u001B[43m,\u001B[49m\u001B[43m \u001B[49m\u001B[43mtensor_index\u001B[49m\u001B[43m)\u001B[49m\n",
      "\u001B[0;31mValueError\u001B[0m: Tensor data is null. Run allocate_tensors() first"
     ]
    }
   ],
   "execution_count": 23
  },
  {
   "metadata": {
    "ExecuteTime": {
     "end_time": "2024-08-01T19:48:38.705595Z",
     "start_time": "2024-08-01T19:48:38.684699Z"
    }
   },
   "cell_type": "code",
   "source": "print(interpreter.get_tensor(6)) #Layer 1 weights",
   "id": "1366d0cc9b4bbbd9",
   "outputs": [
    {
     "name": "stdout",
     "output_type": "stream",
     "text": [
      "[[-117    4  -15  120   84  -49  -66    8   29  -21   -7  119   80  -49\n",
      "    97   41   49  -13  -56  123  -87  -32   61   -7  -75  -47  -78   25\n",
      "   124  124  118   91  -25    9  126   28   80  -24  -18  -23  -39   39\n",
      "   -82  -45  125   19  127   24   30  -23  -75 -102  103 -116   62   90\n",
      "    86   68  -83  125   -9 -106  -98  -66 -105  -70  -67  116   97  119\n",
      "   -69  -24  -77 -122  -28   59  124  -26   22  115  -64   66  -21  -16\n",
      "   -48   49  103  119   69  -53   19  -65  112   82  -37  123   90   53\n",
      "   -25  -68  120  -64   36  -13   -8  -65   84  -43  101  103   19   49\n",
      "     9    3  -55 -126  -85  -29  -76   -9   39  -74   18   89   95  -27\n",
      "    40   14  -55   87   66    3   97  -85   20   36  -59  113  -87  -78\n",
      "     5  110   26  -57  -66  -31   31  -91   80  -73   18   93  -37   68\n",
      "    15  -39   58  120  -25   18  121  101    0  -23   64  118   63  -10\n",
      "     3  -42  -23   83   61   69  121 -123   91  -17   54  -78   76  109\n",
      "    77 -100   -6  112 -110  -44    5   38   86  127  117  -92   31   46\n",
      "    78  -40  -21 -122   79  -15   83  -18    8  106   97  -29  117   -2\n",
      "   114  -91   -1  -46  -61  -10   20  -11  -80   49  -45   43  -71   91\n",
      "   117   62  108  -59 -107   90   25 -118 -102   95    5  118  -58  122\n",
      "    21   66 -116  -15   23  -17   72  -66    9 -117 -123  120  -20  -18\n",
      "   -43  -91  -29  -49]\n",
      " [   7  -43    1    0  -10   19  -23    6  -33   36   34  -17  -46  -48\n",
      "   -58  -10  -53   26  -12   16  -32  -48   -7  -24   16   74  -18   20\n",
      "    12   25  -50   25  -64  -10   33   56  -59   17  -35  -60  -45   15\n",
      "    29  -18   45    0  -63  -10  -52  -33   28  -45  -32    0  -83  -29\n",
      "   -24   33   -1  -20  -41  -53   35   30  -36  -35    9   -5   11  -36\n",
      "    13   21  -13   -5   16  -10  -24  -52  -17  -16   35    7   -8  -29\n",
      "   -23   34  -36   28  127   62  -14  -29   -7  -45   -7  -46  -32   16\n",
      "     7   52   -7   -9  -68   15   65  -19  -12  -26  -67   35  -24   20\n",
      "    51   63   10   16  -37  -54  -61  -63  -28  -22   15   20   52   56\n",
      "   -41  -37   46   58  -14  -30    4  -34  -57  -77    9   -3   24   29\n",
      "   -19   26   11   23   20    9   32   -3   -1  -11   32   -2   10    3\n",
      "   -19   40  -20   -5  -16   62   46    3  -40  -50    3   26   85  103\n",
      "    14   17    5    6  -14  -14  -57   47   31  -15    0  -67  -20   65\n",
      "    91   76   40   -6    7  -26   28   14    0   56  -34    6   41   -4\n",
      "   -53    0  -27    0   28   33    9  -29   -9   19   12   -7  -64  -67\n",
      "   -55  -35   39   13  -34  -53  -64  -39   -5   -4   29  -35   44   53\n",
      "    59    1  -46   44   31  -36   17   -5  -30  -11    3  -52  -65  -52\n",
      "   -46   53  -31  -64   64  -58  -19   27  -50  -45  -32  -53   47  -29\n",
      "   -19   53   19  -42]\n",
      " [ -72  -47   28   49    5  -84  -95  -79   33 -105 -101   82   78   12\n",
      "   -35  -59  -54  -84    3   -9  -11   35  -16  -94    7  -19    2  -14\n",
      "    67   21   10   74  -51   37   48  -42  -94 -127 -127  -65  -69   21\n",
      "    -1   11  -10  -50   89  -53   68  -79   35   -9  -80  -73  -70  -37\n",
      "     9   57   -1   53   19   92  -36  -82   61 -103   -6  -90  -21   24\n",
      "   -44   78   59  108   87   29  -38   -6   -7  -49   75  -67  -39   52\n",
      "    13   42   35   53   10  -19  -31    4   12  -19   36  -93  -77  -68\n",
      "   -48   70   -1   76   28   46   23    2   42   -6   14   29   55  -10\n",
      "   -84    6   99   17   40   56   39   81   55   81   77   89  -34  -74\n",
      "   -34   22  -59   -3    7   34   96   74   81   41   21  120   34   63\n",
      "    33  -92  -17   59  -51   42  -21    0   95   54   76   15   53  118\n",
      "    84  -51  -29  -47   21   -2   16  -40   33    6   -1   52  106   -4\n",
      "    17   28  -35   -5  -97  -57  -56   30   -5  -77  -59   14 -111   -7\n",
      "   -42  -60  -93  -53  -35  -28  -57  -56    2  -90   18  -79  -57  -59\n",
      "   -66   -6  -71  -38   18  -37  -65  -11   15  -47   61  -22   35  -62\n",
      "    71  -27   22    5   -1   -8  -38  -14  -56  -41  -29  -58  -68  -93\n",
      "    30   14  -10  -88   42   47   42  -14  -37   20  102  -10  -19   11\n",
      "    18 -106   75    8  -61   32  -59  -69  -74    9  -56  -18   63  -32\n",
      "   -26   63   89   24]\n",
      " [ -20   59  -53  -20   75   65   13   71    6  -17   38  -50   40  -49\n",
      "   -59   54  -14   31   18   74   70  -11   31   16  -11   56    1    2\n",
      "   -63   47   19  -37  -30  -27  -47   10  -48   41  -16   48   36   -6\n",
      "    -5   -4  -11  -55    2   56  -50   71   36   49  -59  -32   22  -34\n",
      "     8   13   13   40   -7   10  -13   48   -3   33  -68   54   46   26\n",
      "   -56  -12  -80   -7   23  -18   14   72   -7  -34  -16   10   21  -56\n",
      "   -44   39    9    4  -26   39   33   50   -1    9   60    6   34  -60\n",
      "    54   -8    8   46   42   54   -3   -1   -5  -41   -7    5  -21  -22\n",
      "    73   14  -23    8    5  -68   17   70   96   21   34  -25   24  -61\n",
      "    11  -45   -4   66  -12   46  -85  -23  -35   61   76   -4  -81 -108\n",
      "   -76  -34   14  -34  -13   -2  -50  -35  -69   51   72   61  -29  -50\n",
      "   -10  -53   25  -48   22  -43   11  -43  -21  -11   33  108   97  -58\n",
      "  -127  -67  -72   24   43   30  -51  -59    4  -28  -66  -31   42   59\n",
      "    27  -59  -50  -26  -26  -61   60  -30  -55  -47   57  -30   31  -17\n",
      "     1  -10   61  -20  -69    4   18    5   -5   29  -17   41   45   14\n",
      "    17   -2  -18   77   27   93  -24   -5   15  -31  -15   47   38    6\n",
      "   -18  -27  -32   43  -34   -4  -42  -48   64  -31   23   -2  -11   12\n",
      "    68   -6   57    6  -13    5   23   25   40   39  -27   -1   47   35\n",
      "    47  -44   -7  -37]\n",
      " [  97  105  -96   28  -75   -8    4 -103   14   28  -61  -99   96  -74\n",
      "    54   60  -72   -3   45   73   65   13   82  -98  -51   87  -89   55\n",
      "    41  -47   37    8   15   22   74   66  -54   22   28  -10  -20   87\n",
      "    55   52   13  120   -6  -19  -67   11  -61  -98   81  -10  -72   73\n",
      "   -27  124  -27   -1  -55  109  -20   59  -12  -38  -45  -27   17 -103\n",
      "   -73   -7 -104  112   12   -5   25  -17   71   57  -99  -95  -30   35\n",
      "    31  -61   49  -63   69 -112   61   -8   53   66   87  -23  -50   98\n",
      "   -35   23  -44  -15  -67   18  -78   17   79   47   86  -37    7  -53\n",
      "    66  -61   56  102  -73  -92  -68   25  -93  105  -85   23  -34   78\n",
      "   104   85  -14   78  111   85   57   83   41  127   44   50    7 -105\n",
      "   -91  109  -10  -11   27   43   87  -85  -88  -90  -60   96   71  -80\n",
      "    90  -45  -90  127    1   20  -18    4   30  110  -94  -46    5  -99\n",
      "    82   50 -101  -58  -47  -52  -35  -18   37  -29   33   21  -44  -88\n",
      "    73    6  -31  -86    1  -64    1  -68   67   13  -44  -58   35   38\n",
      "   -93  -79  -95  110  -79   26  -39   84  -35   79   32  -72  122   27\n",
      "   -55  -15  -68   78   66   53  -30   91   23    1  -73   72   -1  112\n",
      "   108  109  116 -104  -15  -97  -42   50  -76   32  -99   92  -88   79\n",
      "     0  116  -36   14 -103  102  -92  127  -83   46  124   94  -14  121\n",
      "    42   73  121  -84]\n",
      " [ 109   91  -10   25  108  -58 -104 -118   32  -50  113  101  -60 -115\n",
      "    55  108   72  -89   61   25  -11  -21  113   21   54  -52  112  -67\n",
      "    15  -45   98   17  -39   34   87  117  -49  -95  -76  -24  -14   38\n",
      "   -74  -49   54   81  125   47   38   34    3  -76   74 -114  117   92\n",
      "    29   58   63   91   86 -105   38 -102   26  -81   68  127  -89   19\n",
      "    68 -115  -26    4  -37   84  -18   38  100   89   50   12  -84    2\n",
      "    -4   16   61  116 -103   20  -56   40  117  124  106  -23  -85   59\n",
      "   109    8  -91  -53  -32  -23   -2    5  -52    0  103   62  -93   96\n",
      "    39  -85   85   80   32   -4   95  -46   69  -28   88  -84   83   16\n",
      "  -117  112  -59   15  103  -75 -118   94 -114 -112  113  -29   85  -89\n",
      "   -32  -79  -89  -23   17  -57   13  118  -31 -107  -72 -113  -62  -65\n",
      "   104  -59  -64  -18   36 -115   11   58   68  -41  -96  -87  -73    3\n",
      "   -23   95   91  112   30  -99  -19  -34   80  102   62  -19  -95   81\n",
      "   -74   65   87  -17 -106  -23   80   26  -42 -115  108  118   53   25\n",
      "    42  -61   28  -82  -96  114   80  -32   67   17  -60    0  -91    4\n",
      "    -4  -34   63  -11   48  -21   41  -91  -76  -57   26  102  -64   37\n",
      "   116   56  -14  108   44    9    7   13   83  -34   26   54  -46   68\n",
      "   -82   42   93  114  -40  -87  -16 -106   73   12  -12  -32  116  101\n",
      "    50   17  119  110]\n",
      " [ -34  -48  -12  -47  -21   10    4   -3  -24    6  -51  -39  -23  -21\n",
      "    57    6   32   -7  -39   46   -7   11   35   32   41  -21   46  -24\n",
      "    14    0   18  -11  -33   57   51  -17   55  -11   17   15   14  -11\n",
      "   -35   24   42  -35   38  -49   34   35  -42    1   -7    5   -5  -52\n",
      "   -40  -39  -29   -4   30    6   13  -35  -47   15   42  -20  -32  -25\n",
      "   -29  -21  -95 -103  -47  -22  -21   27  -53  -20    3   50  -42  -21\n",
      "   -25  -33   -6  -25  -60  -31   27   20  -33  -16  -40   42   -2    6\n",
      "   -37   10  -11  -19   32  -29  -68   27  -20  -12    1  -29   20    7\n",
      "   -20   31  -36  -44   25   74  127   50  -51   50   17    3   -9   13\n",
      "    -8    7   36   24  -18   35   98   68  104    8   10   56   29   49\n",
      "    27   47   42   22  -12    1   15   16   91   14   49   -5   38   78\n",
      "    53   -6   54  -21   -2  -12   38   33   37   29   19   19   -4    3\n",
      "    18   46   51    8    8  -27  -35   32  -23   50  -28  -28  -50  -11\n",
      "    50   28   47   25  -32   20  -26   28   10  -19  -13   36  -55   -3\n",
      "   -37  -25  -25   -5  -12  -29   13  -12   19  -64    7   20    3   31\n",
      "   -48  -28   -1  -29    0  -49  -27  -14  -52  -12  -47   -7  -52  -44\n",
      "   -50    1   32   27  -42   10  -48  -58  -63  -36   15  -61   -4   -5\n",
      "   -53   47  -54   51  -33   -3   42  -54  -26   39   31  -37  -21  -51\n",
      "    -3   27   50   56]\n",
      " [  11  -22  -40   47  -39   47  -69  -25   41  -43   24  -32   -2  -67\n",
      "   -60  -59   54   32  -53    4   44   45   50  -57    2   51   37   48\n",
      "    34    6  -30   62  -36   15   37  -42    1  -47   -6  -12  -40   34\n",
      "    63   -5   50    6   58   60  -46    6    9   29  -28   29  -42  -17\n",
      "    -4   67   57   57    8   49  -12  -35    4   41  -30  -30  -45    2\n",
      "    -9   13    7   14   32    5    8   37   22   28   31  -65   -8  -19\n",
      "    -1   26   -5   21  -21  -64 -127  -65  -61  -31    8   57  -49  -66\n",
      "    15   10  -23   24   16   72  -49  -81  -49 -104 -106  -59   -7   14\n",
      "    28  -69  -19   14  -24  -15   32   83  -48  -16  -14  -32  -51  -35\n",
      "    42  -29  -36  -33  -19    9   28    7    1   22  -15  -11  -46   43\n",
      "   -10   12  -40  -51  -61   55   44  -67  -50  -41   26  -19  -25   -1\n",
      "    47    7   -3  -10   -2   13  -12   20   33  -26  -32   19   63 -107\n",
      "   -60   18   -3   55   63  -17  -60  -62  -64   64   45   37   28   47\n",
      "     2   37  -29   15   44  -27   61   76  -27   -5   11   26  -49   -8\n",
      "   -19   53   41   29   61    5  -22    0  -27   12  -11   43  -57    5\n",
      "    10  -35   28   36   32   29   -1   46   -8  -32   17  -34   59   21\n",
      "    47   44  -19  -39   38    4   16   47  -17  -20   37   39   32  -14\n",
      "    56   14  -17   46  -55  -27   21  -53  -55   -3   21  -27  -36  -52\n",
      "    40   64   44  -42]\n",
      " [ -72   46  -55   -3  -42   29  -54   26  -98    5   21   29   44   60\n",
      "    32    1  -81   49  -22  -66    4  -42  -71  -72  -34  -77   10 -104\n",
      "   -22   31   31  -94  -44  -81  -72   17  -70  -67   47  -35   18   -5\n",
      "    42  -11   28  -68  -54   10  -27  -94  -65   14  -80  -13  -92   14\n",
      "     3  121   56   63  -79   29  -78   66  -61  -45  -53  -58   11  -70\n",
      "   -80  -16   33   37   17   26   29  -54  -28   22 -102  -31   15   27\n",
      "   -64   56  -37   27  116   73   12   -3   59  -37    4  -21  -56   25\n",
      "   -44   -8  -78  -67  -80   46   90   17   35  -24  -29   51   58  -80\n",
      "    53  -95   -6  -99  -64  -62  -42   86   64    8   26   48    9  -26\n",
      "   -13   -3  -93  -86  -82  -70   -2   22  -47   11  127   16    5   59\n",
      "   -69  -60  -39   -2  -52  -85   -1  -46  -17  -40   14    1   14   61\n",
      "    46  -21   22  -63  -76   -2  -60  -57   59   -5  -32   24   47   42\n",
      "     5   50  -15   49  -37   47    0   54   23   -9   52   43   13  125\n",
      "   123   24   42   15   40  -35   55   26   59   35  -65    1  -42   82\n",
      "   -15   66  -55   -8   40   47   55   20   38   21  -30   15  -92   57\n",
      "    58  -50   61   52   26   22   -1    1    2    1  -62   13  -92  -93\n",
      "    25   15  -47  -13  -54   60   -2   -6 -101  -14   36 -101  -70   11\n",
      "  -102   65  -46   13  -44  -53   29  -88   47  -89   11   22  -91  -36\n",
      "    41   56   14  -28]\n",
      " [  15   28   22  -19   12  -65   54  -47   14   12   11   66   17  -41\n",
      "   -47  -30    2  -12  -47   69   62  -48   43  -32    2  -71   49  -46\n",
      "    62  -59   68  -29   62  -32  -68   51  -18   14  -18  -37   51   -8\n",
      "    -7  -14    1   -4   23  -51   55  -18  -48   11    3  -44    5   27\n",
      "    39   30   26  -10   21  -73  -39  -44  -57  -46  -72   26  -56  -41\n",
      "   -27    5   49   61   73  -11   26    3    1   41  -71   28  -83   -9\n",
      "   -26   -4   -2   40   54    1   41    8   10   -9    2   66   60  -19\n",
      "   -19  -34    3   20  -16  -40  -40  -25   -9   42   61   94  -40    5\n",
      "   -10  -18   48   46   72   -3   19  -31  -99 -106   -5    0   49   60\n",
      "   -22   21  -29   16  -54   75   36   59    6  -70  -14  -91  -26  -46\n",
      "     8   -8   58   41   63    2   42   54   94  106   82  -99  -63  -77\n",
      "   -43   11   39  -23  -14  -49   -9   26  -39   21   49  127  -11  -71\n",
      "     0  -12   15  -19  -36  -58   60  -17  -12  -17   26   75   32   49\n",
      "    76  -38  -34  -54  -44  -21   48   -7  -41  -32   49   22  -17  -28\n",
      "    35   18   82   10   12   36  -24  -70  -54  -44    6    2   42   40\n",
      "    44   51   52   13   56   20   61   19   16  -42    1   11   62  -37\n",
      "    35  -67  -43  -20  -22  -57   28   28  -49  -45   37   11  -72   28\n",
      "     3   26  -28    5  -22    1  -60   32  -71    9   -6  -73  -64   41\n",
      "     9   50  -17   46]\n",
      " [  75   20 -106  -11   80   13   73  -26   61  -67  -26  -35    3   -7\n",
      "    51  -96  -37   28 -106  -62   43  -21   59  -35   44   30 -104    9\n",
      "   -51  -53  -45  -77  -66  -77   67  -71  -22  -37  -35   53   -2   13\n",
      "   -39  -69   26 -107   58  -76  -67  -33  -74  -80    8  -30   40   -6\n",
      "    18  -21   11    2  -13  -30  -72   32  -21  -15  -44  -24   79   70\n",
      "    63   32  -34   32   25   14  -20    4   15  -85  -18   46    3   54\n",
      "   122   80   91   18  -89  -28   31   85   38   44  -37 -100   57   15\n",
      "    42   80   31   19   11  -62  -15  -17   67   10   95    2  -40  -61\n",
      "   -51  -31   37   38   12   18   25  -69 -127   25   -1   86  -44   57\n",
      "     1   72  -15   21   13  -25  -14   24   48    3  -11    8  -12  -13\n",
      "   -59  -44  -63  -30   24   -7   38   -9   84    5   74   33   26   72\n",
      "     5  -87  -72   12  -59  -65  -30  -16  -16   36  -25   61  116   59\n",
      "   -19  -14  -28   -7    8   18   96   31   73   -7   18   91   72    5\n",
      "    40   58  -19   35  -11  -11  -13   40   71  -18  -17   21  -22   34\n",
      "    22   63    6   38   84  -36   17   31  -14  -43  -58  -22  -41    4\n",
      "     7  -68    1   43   44   66   37   45    3  -31   68  -55    3  -95\n",
      "    28   38   24  -18    5  -46  -48    3  -10   47   56  -85  -33  -62\n",
      "     7   13   54  -89  -72  -70  -98  -43   45  -92  -14  -17  -10  -30\n",
      "    31  -86   -6    5]\n",
      " [  44  -35  -36   12   36    3   24    8   -3   34   23   -2    0   48\n",
      "    47   -5  -44  -29  -18  -42  -36   45  -44  -37   18  -18  -36   15\n",
      "    22  -31  -29   13    5  -35   50   29  -20   19    0  -15  -60  -40\n",
      "   -18  -62  -67   14    7   34   63   36   48   16   34   -7  -64  -43\n",
      "   -24  -70  -32  -45   12   11   55   16   24   -6   58   33  -37  -74\n",
      "    13  -37   -4   17   15   11   61   47   49   -1   24   52  -44   11\n",
      "     5    8   25   44   34   35   91   45   46   71  120   21   62   -5\n",
      "    -7  -12    4  -23   -4   17   -3   35  -45   -6  -17   34   88   28\n",
      "   -33   32   -5  -23   41   37   16   73  -22  -67  -65 -127  -71  -23\n",
      "     1   40   -6   39  -42  -35  -47   42   35   -8  -37  -45  -28  -50\n",
      "   -14  -10    8  -14   20   23  -17   -5  -44  -19   -9   -9  -47  -18\n",
      "    14  -34  -81    3  -48  -44   50   23   32   69   17  -19  -32  -11\n",
      "    13   36   25  -10  -56  -40   27  -15  -27   58   -4  -14   29   18\n",
      "    24  -37    5  -16   12    8  -62  -49    3  -38   24   35  -17   19\n",
      "     3  -40   -7  -25  -26  -15  -32  -34   22   -7  -17   57   34   35\n",
      "    -4    1  -40  -16   30  -23   30  -21    2  -47  -40   19  -21   51\n",
      "    20   58   36  -28    2   -9  -35   -6  -36  -18   25   -8  -35  -40\n",
      "   -15   31   57   10   37  -50    1  -15  -43   20   19    4   14  -33\n",
      "    -8   41  -27   50]\n",
      " [ -85   84   28  -55   94   34  -70  -57    4   59   -5   45   69   19\n",
      "   -59   72  -84   95   91   47   -6  -63   69   89  -64  -49    9   47\n",
      "   -12  -18  -74   29  -46   63  -71  -56   16  105  -50  -40  -20  -82\n",
      "    37   27  -66  -15  -53   73  107  -12   77  -36   78   57  -68   42\n",
      "   -48   13  -37   94  -23  -72   52  -66   60   96   86  -46   31   36\n",
      "     6   93   55  -51   25   11   29  106  -81   43    8  -27  -39  -28\n",
      "   -32   36   86   82   93   58   11    7  -28  -60  -40   47  -44  117\n",
      "    66   46   67  -90   69   19  -45  -70  -71  -62   51   95   26  117\n",
      "    32  -50  -72   63   63  -34  -93   33   45   66 -105  -11   61  -93\n",
      "    94  107   98   94   47   67  -51   81 -127   11   15  -24  -26  -84\n",
      "   -97   12  -87  -35   39   83  -21  -12  -61  -22    5   82  -79   16\n",
      "    57  -88   76   -2  -80  111   91  -66   60   71  -12   55   97   85\n",
      "    35   -9   41  -63  -27  -80  102   83   13   44  -88   29  -14   68\n",
      "   -10   62  -49   66  -48   51   51   86  -46  -25   58   67   -6   31\n",
      "    -8   55   16  -30  -48   81  -32    0  -60    6    7  -61   23  -36\n",
      "   -29   51   82  -53  -21   83   81  -64   55  -29  -62    8  -28  -31\n",
      "    62   81  -81  -70   47  -29   77  -49   96   23  -40  -58  -41    3\n",
      "   -81  -28  -29  101   62   74  -86    5   60  -21  101  -81   68   -3\n",
      "   101  -81  -43    9]\n",
      " [ -51  -72  100  -15   58    1  -77   33   81  -42  -66  114   -4  -87\n",
      "    99  -13   53  -35  -50   60  101  -74   87   99  -74   48  -67   92\n",
      "   -56  113  110    4   23  116  109   72  -60  -77   70  -45   39  103\n",
      "   -77  -34  -38   62   96  -13  111  -19  -30   50  126   -3   22    8\n",
      "   -18  -51  -10  -54  -40  -70   84  -45   42   25  -67  100  -11  -17\n",
      "    80  -70  -71  -24  -72   56  -39  -28   99  -30  -84   25   26  120\n",
      "    19    1  -53   94  -55   55   89  -41   82   10   90  108  -18  -16\n",
      "    24   74  -38  -23   -6   99   52   66   26  106   -4  127  -25  -21\n",
      "   -64  -72  -83  -58   75  -48  115   31  -78   70  111  -63  -81  -30\n",
      "   111    8   69   61  109   62   50  -20   -2   27    8   73 -101   55\n",
      "    85  -20  102   14  -62  -86  -23  -73  -92  102   93  -60   24  -37\n",
      "    59  -93   28  -51    0   79  -34   47   26  -46   15   28  -36  -48\n",
      "    28   33  -80    0   66  -49  -27   59  -35   44  -67   -1  -20  -47\n",
      "    51   26  -62 -121   72   80  -41  118   58   85  103   98  -66   13\n",
      "    79  -19   45   67  -28  -34   40   25   92   90  -78  -20   36    2\n",
      "    82  -82  -32  -60  -31  -28   14  -70  -22  -83   50   -2  123   -9\n",
      "   -70  109  115    5    6   20   99   21   -3  -36    4  -69   -2  -86\n",
      "    51  -20  -27   21   53  -31   -9    7  -65  -84  110   28   97  -60\n",
      "     9   49  -17   29]\n",
      " [ -27   67  -21  -21   58  -38   65  -29   22   42   -3    5  -11   54\n",
      "    59  -51  118   19   -8  104   74   60  102   -9   -7  117  123   61\n",
      "   -64   -7   93   46  -22   61    9  -93  -77  -33   45  -34   49  -72\n",
      "   -73  -10   47   65  -59  -97   97   20   97   56    7   38   25   53\n",
      "    97   50  -11   82  -22   94   85  -96    3    6    6  104  -80   94\n",
      "   -66   57 -106   71  106   -9  -17   94  -80   69   97  -28  -89    0\n",
      "   108   12   92   85   78  -73  -35  -54  -52  -35   57   -7   55  -50\n",
      "   -24  -77  -73  -32 -115   62  108  -25   20   62  -47  -36   -6   98\n",
      "   -54  102  127   19  101  -91  -58   51    6  -94  -18   16   99  -75\n",
      "    25  -85   20   -7  -48  100  -36  -97   -1  -51  -47  -10   94   28\n",
      "    22  -60  114   33   40  -34  -31   -2 -107   64   68  -31   19  -28\n",
      "    47   51   96  -61   84  117    1   42   91   56   38   17  -29  -56\n",
      "    65   93   65  -90   45  -85   27  -54  -67   23   61   55  -12   86\n",
      "    44  111  -84  -93  -19   56   10    2  -20  -88   69  -40  -50    7\n",
      "    35   50  -32 -102   11   -6 -110  -81  -90   51  -96   54  112  104\n",
      "   -34  -80   74  -28  -52   -8  -20  104   41  -42  -15   42  -85   35\n",
      "   -22   81   37   11  -27   -2    1   26  -96  -43   25   56  -31  -84\n",
      "   -70  121  125   10  112  104  -62  -31   72  -24   75  -81  -84  -97\n",
      "   -27    7  -47   58]\n",
      " [  79    5  -79  -99 -101   94   36   31  117   86   59   51  -14  108\n",
      "   -69  -95  -86    3   56    9   61   30  -24  -69   55   95  -53  -49\n",
      "     1   -2  -30   77   19  -64   -9   21  -96   60  120  -76   82    7\n",
      "    17  -94  114  113   70  -14   87  -33   94   91   98  116  -32  -13\n",
      "    98  -90   66  -21 -103  -22   11   68   86  111   10  -86   67   66\n",
      "   -27   40  -51   67  -61  -74   91  -34  -22  -20  -65 -101   11   72\n",
      "   -81  -72  -15  -90  111  -33  -73   88   27  -68   28  -86  -89  -78\n",
      "    15  118 -100  -71   -1   -9  -50  -19   -8  -57  -21   56  -19  108\n",
      "    39  -16   81   41   49  -56    5   75  121  -84   11   57  -44    1\n",
      "   -44   53   45   60  120   23  112   93  -24 -107  -48  -98  -16  103\n",
      "   -57  -93  -72  -95  127   28  117   13   21   54  105   29   27  -35\n",
      "    45   57   26   44  -95  -75   26  -14  103  114   40   92  -85  -61\n",
      "    56   24   10  -13   39   47   -9  -22  102  -19    4    6  -22   69\n",
      "    19   13 -105  -13   -3  -85   -8   96   59   79  -23  120  -98   68\n",
      "    25  -55   89  -74  -98  -26  -16   23   21   77  -86  126   17   40\n",
      "   107   -5  -87  105  -35   24  108   42   26    5    2   90  -65  -82\n",
      "    34  -93  -58  -52   21  104  -95   69   57   26   34   55  -75   10\n",
      "   102   52   86   45   48  -68   38   10  -57  -56  -60   90  -36  -39\n",
      "   -73   73   85   75]\n",
      " [ -56   51  -22   24   49  -14  -71  -60  -72   29  -61  -73  -18   30\n",
      "     1   13  -67   74   76    2   63   23   18   45   99  -31   63    5\n",
      "   -29   83   65   35   81   77   80   79   50  -35   20   45   79   65\n",
      "   -21   -4  -78  -47  -64  -56   -2  -28  -59   42   23  -26  -38   39\n",
      "   -13  -36  -47   17  -67   13   48  -71   66  -58  -13  -25   23  -82\n",
      "   -70  -30   -5  -25 -126 -112  -87  -47  -74   17  -11   72   61   -3\n",
      "   -46   59   49   40  -61 -126  -70 -124 -112    2    3   25   37  -67\n",
      "    22   -5  -79  -34   54   45  -18  -19   57   92   48   20   48  -42\n",
      "    26   45   17  -44   53   79  -10  -49   50   67  120    0   51   38\n",
      "   -13   63   40   67  -21  -67   56  103  -61   26   38   24  -88   38\n",
      "    91  -17   29   40  -14  -58   59  -40   -3   78   10    2   79  -75\n",
      "    56   66  -35   45  -29  -15   58   29  -31   24  -11   65   21   14\n",
      "    14  -22  -38   18   32   -6  -39  -10  -60   74   19   24  -40   24\n",
      "   127   76  -61   42   65  -11  -40  -45   65   12   44   74   48  -61\n",
      "    49  -25  -62   16   41  -63  -54   -5    8   54   -7   -4  -56   16\n",
      "    33   14   24  -85  -13  -29 -105   26    8  -79   -3  -23  -29   72\n",
      "   -42  -45  -43   -4   -6   15   38   -7  -57  -64  -31   44   68   48\n",
      "    68   67  -56   42  -22   -5  -30  -17  -66   63   14   -9   51   56\n",
      "   -26    2    0   31]\n",
      " [ -73  -67   63  -76  107   66   82  -18   61 -101  102  -37   52 -100\n",
      "   -62    5   52  109   42   -9  -59  -75  -30  -73  -15  -96  -93   73\n",
      "    -2  -98  -90   33   44  -85  119   79   40  -32 -103    3   37  -63\n",
      "   -10  -23   82   87   70  -12  -59  -91   55   55  -78   41  -92    2\n",
      "  -113 -101  -65   66   99  -85  -27   66   93   51   65   62  -89  -50\n",
      "   -11    2  -18   98   23  -33   66   58  -35   83  -91    9  -88   27\n",
      "    19  -79  -37   66   42    2   59  -16  -22  103  -36  -54 -114  -64\n",
      "  -117  -97  -80  111   66  -85 -117  100  -33    1  -44   87    7  115\n",
      "   -81    5  104  108   60  -93  120   39  105   13   18  122  122  -77\n",
      "    53   41   78  -11  -73   56   12 -106   11  -38  -16 -110   32   16\n",
      "    44  -60  -43  122   74  127 -122  -46  114  -89  -84   76  -57   70\n",
      "   -50  -10  -36  -99  -30  -35   68   32   32   48  -99  -29   24  106\n",
      "   -56 -115  -48   60   96  109   70  119   22   74  112   11  -69 -116\n",
      "   -84   34  -58   74   52  -80   71    3   63   28  -25  -26   37   93\n",
      "     8   49  -14  -55   10   -5   60   81   -6   62   73  104  100   62\n",
      "    44   89  119  -50 -105  -21  -97   42  -43   47  114  -94   19   17\n",
      "    -6   97   46  -55  -10   86  -78   75   94  126   38   68   56  -25\n",
      "   -83  -55  -89   14 -111   93   74   15   77  -55   63   97   -4   72\n",
      "  -113   39   57   77]\n",
      " [  21   28    7  -32   41  -18    1  -10   15  -14   40   26  -11   31\n",
      "    41    9  -35  -12   31    8  -40   41  -27   22  -27   23  -24    4\n",
      "    11   33   33  -19  -26  -22  -29  -13   29  -54   15  -42   -6  -27\n",
      "    23   -9  -10  -16  -18   31  -27  -10  -10    9   32    1  -53  -82\n",
      "   -52    6   50   12   12    5  -26   -3  -30   38  -12    9   23   28\n",
      "   -46 -127  -63   42   44  -18  -41  -33   28   35   12   26   -6   47\n",
      "     5   34  -19  -58  -27   40   12    1   34  -12   21   41   26    0\n",
      "    29  -12   12   54    6  -33  -25   39    4  -13  -41  -17   43   14\n",
      "    -3  -36  -23   35   -7   45   20  -36  -74   28  -17   -9  -14   11\n",
      "    10   32  -11   17   38   35    8   21   12  -57  -28   13   50   32\n",
      "   -10  -31   19   40   38   29   17   25   37    6  -53   -9   -7   14\n",
      "    35   20   35  -22   24    6    9  -17   -9  -36  -18  -34  -18  -33\n",
      "    14   29    8    5   19  -30  -31   -8   34  -24  -23   34   15  -10\n",
      "  -101  -26   25   -9    9  -29  -43   -4   33   10    5   12  -19  -18\n",
      "    11  -41  -56  -24   -1   10    5  -24   12  -30   -8  -19   18  -22\n",
      "   -10   -3  -10  -41    8   -1   11    8   37   10   11    1   42  -18\n",
      "    42   19   11   35   11  -31  -17  -21   20  -13  -25    7  -12  -32\n",
      "   -11   33  -15   47   45   -6   20   15   13   16    8  -31   14   33\n",
      "   -13   14   12  -13]\n",
      " [ -46   53  -65   19  -56   78  -20   36   -5  -50  -25   40   45  -63\n",
      "    48    4  -19  -32   35   12  -51    1    9  -32    6  -18   55   44\n",
      "     0    3  -31    3   31  -50    2  -30  -38  -11   11   60   78  -28\n",
      "    46   27  -19  -17  -36   57   40  -11   66   19   55  -49   17  -70\n",
      "     0   60  -44    5  -24   38   63  -54    7   52  -54  -39  -15  -31\n",
      "    16  -38  -16  -39  -40  -48  -56  -45   42   51   14  -15  -49  -50\n",
      "   -45  -61   26   -3  -20    1  -53   18  -58  -28   23   55   -6  -32\n",
      "   -25   -2  -92  -97  -87  -80  -70  -30    5    3  -61  -63  -27  -60\n",
      "   -13   42   -9 -127  -32   -6   -1    3   42    6  -20  -14  -30   73\n",
      "    88   26   -5   61   16   36   45   27   88   74   66   77    8   83\n",
      "    70   82   87  -46  -19   43  -24   42  127   53    0   43  127  105\n",
      "   118   91   86   98   16   84  -47  -22  -24    9   76   -7  -30  -59\n",
      "    41   80   22   17   20   56   22  -12  -16   27  -38   26   29   17\n",
      "   -78   -3  -64  -57  -73  -22  -43  -68   18    8   71   29  -38   54\n",
      "   -27  -12   13  -62  -62  -33  -77   34   18   46  -32   22   30   63\n",
      "   -56  -36  -56  -38  -43  -66  -82  -45  -43   13  -23   -9   67  -66\n",
      "    45   65    6  -53  -23   38  -52    5    3  -53  -19  -85  -38   33\n",
      "   -53  -19   52   41   20   72  -28   64    0  -63   53   -6   32   57\n",
      "    63   44    5   31]\n",
      " [  14  -91   49   51   44  116  108   92   20  -70  -36    6  -62  112\n",
      "    -3  -40   27  -86   76  103   14   99  -19  -27  113   43  -45  100\n",
      "    31  -50   19   20  -37  -46   29  -30   16  119  -76    3    6  -86\n",
      "    22   60   -4  109  -13   96   96   66  117   99   65  -69   51   22\n",
      "    42  -37  -55   36   11  103  102  108   61  -44   18   40  -74   17\n",
      "   -27  -58    4 -101   87   76   41   43  -59    6  -45   95   75  -82\n",
      "   119  -59 -102   -2   62  -32  -18   77   -9  -67  110  -65  -61   31\n",
      "     7   43  -16   37   11  -19   20   78   32  -49   69  104  123   89\n",
      "   -52  -81  -19    5   98   16    5  -33   52  -58   84 -103  -64   15\n",
      "    36  -44  -33  102   32   87  -31   29  -31   52   17  -64  -29   20\n",
      "   108  -13  107  -91  -67  -75  -31  -54    4   68  -39   22    6   23\n",
      "   -52  -30  -68  -56   37   56   10  -10   16  -20   19  112   26   -1\n",
      "    66  101   17  -80  -58  -79  -37   34  127  110  -84  -20  -90  -80\n",
      "    15   51  -66   90   -8  -90  -67  -84   37  -64    1  -30   43  -68\n",
      "    50   25   64   57  -13  -66  -78  -63   77   42  -24   96  -68   59\n",
      "    61  -15   29  105  -73   96   68  -15  -69   91   -4  -80  -26   48\n",
      "   -40  -27  -39   18  -58  -10  -14   63   94   78  100   28  -24    5\n",
      "   -67  -10  -28  -63   41   80   33  -55  -49  -27  106   32  -23  111\n",
      "    57  -35    2   74]\n",
      " [ -89    7   30  119   20   43  -41  -13  -42   25  -63   89   61  -36\n",
      "   -91   22   77  -50   40   95  -31  -71   13   20  -73  -39  -75   27\n",
      "   -70    8  -91   82   98  -98  115 -101   98  -23   76    2  -18   74\n",
      "    75   15  -85  -86  -93   47  110    2   82   51  -12  -80 -107   57\n",
      "     2  -55   45  -84  -63   92   23   55   81  110   28  105   25   -6\n",
      "    68  -76  -62    5  -27   41  -81   -1  103   40  118   17   26  -40\n",
      "   -74 -100  -14   22   29   62   36   61   90  -74  -13  -89   98   21\n",
      "    90  -34  114  -99  -19  -36  -14  -87   47    9   25   18  -71  127\n",
      "   -56   -5   45   23   36  -59   -6   93  -41   10  -30  -16  -34   13\n",
      "    51   33    2   22  119  -13   -8   15  -10  -86   -9  -35  -27   49\n",
      "   -37  -16   95   39  -44  104  -36   73   94   72   90   94  -28   49\n",
      "   -41  -19   74  -98   11  -49    5  -28   -2  112    2   52  111  -33\n",
      "   -91  -40  -11  -85  108  -95  121    0  -90  100   99  111  104 -122\n",
      "    16    0   23   92   90  -82  101   48   61   77  -23   75   79  -21\n",
      "   -92    6   95  100   55   64  -80   16   10   46  -30  103   72  104\n",
      "   -68  -80  -71  -86   20  -23   20   43  104   71  125  -89  112  -21\n",
      "    34   71   31   22  -39  -33    4  -61   78   41   51  -87  -66  -27\n",
      "    56  -70   61  -98  125  -97  122  -60  -21   68    2   -3  -71  -36\n",
      "   -46   66  -73  -55]\n",
      " [  93  -66  -31   64  -48   25   39   97  -18  -85  -82   97  -76  -56\n",
      "   107   86  -67  -60   93  -30  -82   66  -45  -43  -39  -40  -77   15\n",
      "    91  -30   50   -2  -26   35    5   23   28  126  -62  -53  -17  -19\n",
      "   -73  -90  -44  -41   45   69  -61   96  -67  -52   83    4   -6  -63\n",
      "    69   22  -27   13   90   17  -36   79   96   56  -57   21  105   72\n",
      "    95  -33  -36  -71  -48   47  -47  -13  -35  -59   15   36   42  -53\n",
      "   -42  -25  -65   57   73   28   20   53  -25  -97   59   38  -57   62\n",
      "   -67  -10 -127  -43  105  -26  104  -51  -75  -72   70  -64  -81   93\n",
      "   -47   30  -12   71   25  -74   89  -19   46   43   28  -28  -91   47\n",
      "   102   31   87   37  -12  -35   38  -54  -47    5   84  -46   54    0\n",
      "    82   24   20   80   56  -61  -88   34  -63   58  -24   27  -80  -84\n",
      "   -44   87  -20   -3   14   62   29   98  -47   91  -23   86   42   38\n",
      "   -36  -83   18  -35  -64   68  106   61  -52  -47   20   -8  -11   24\n",
      "   -25   -8   42   88   33   23   96   70  102   24  -27   -1   41  -51\n",
      "     3   35 -117   28  -45   35   68  -44   31  -81  -21    7   -4   75\n",
      "   -44   -4  -81  -49  -97  -22  -65  -84  -27   68  -36  -30   53   70\n",
      "   -20   50  -70   23   77   91  -23  -74   77   42   29   -1   21  -58\n",
      "    87   96  -25    2   15  -20  -29  -56  103   12  -31  -50  -27  -35\n",
      "    79  103   25  -45]\n",
      " [ -49   70  -72 -105   53   90 -100  123  -10  118   59  -30   41   16\n",
      "  -107  -15  102  114 -106  -17  -33   42   56   51  122  -37  -29   40\n",
      "    88   81   56  -50  -99  108   38   92  101  -33   59   60  -92  -49\n",
      "   -89  -35  119  -24  -89   78  -95   80  -30  -35   68   82  -96  -81\n",
      "    -8  102  -88    5  -99  -90   92  -62   56  -50  -56  -67  -70  -79\n",
      "    60  -68  -12   -2 -112  -50  115  -37    6  119   33  -97   99   41\n",
      "  -105  -82 -101  -54  -49   94  117  -49   35   -4   42   49  -69   25\n",
      "    53 -103  -36 -101  127   97   -7    4   12  -83  104  -72  -54  104\n",
      "    46    9  102   16   27    2   95  -15  -32  -55   -1   14    6   64\n",
      "   116   84  115  115   32   -5   69  -76  -77  -23   95   15  -48  -33\n",
      "   -41   99    3   19   74   16   30  -86  124  -59   72   82  -85   60\n",
      "    23   70  -66   70  -81  -25   75 -102  102   53  -18   51   72  -68\n",
      "    69  107  -64 -112  -43  -11  -73   37   64 -107  -74  -91   37   21\n",
      "   108   78   62   54   73  115  -70  -56   38   86  -73  127   65  -53\n",
      "   110   51  -93   69    2  -80   28   26   34   -5  -59  -76    9  -24\n",
      "   -52   33  -63  -13   70  108   93  124   -1  -46  -34   88   -8  -28\n",
      "   -91   11  -85  -56   76   75  -86   62  102  125   -9   -9  119  117\n",
      "    -4  -99  126  -49  -22  -72   89  -21  120  -68  -58  103  -72   28\n",
      "    94  -48   87   -4]\n",
      " [  33  -37  -81  -17  -32  -68   17   24    1   30    2   80   96  -60\n",
      "   -10  -72  100    3    8  -30  100  -24   64   21  -68   33   38   49\n",
      "    62   22  -48  -27   -8  -12    7   57   16   -5  -20  -78  -46  100\n",
      "    84  -59  -26   39  -27   18  -52   -2   22   96  -81  -25  -55   44\n",
      "   -36   66    2  -23  -69   22   -8    1  -65   28   35   52  -11   73\n",
      "    70   22   76   58  -18   41  -67  -34   -3  -30    0   43   67  -81\n",
      "    -9  -11   61   54   24  122   47   59   70  127   52  102   54   77\n",
      "    81  -92   43   94   86   36  -51  -60   22   39  100  -36   98   59\n",
      "   -36  -76  -33  -27   50   40   -9    3  -51   28   56  -30  -39    9\n",
      "   -74   55   24   92   34   43   88   -3   -2  -17   35 -105   11   53\n",
      "    82  106  -72   -6   82   10    9   87   38    7   26   34 -105   68\n",
      "   -12   34   62   85  -27  -25  -18  -25   28   40  -52   13   36   -4\n",
      "    16  -74  -49  -81   24   50  -57  -37   -7  -36  100   -6  -16  -12\n",
      "   -43   85   77   76   62  -22  -87  -62   61  -75  -73   32  -42   12\n",
      "    22   57   90  -67   57   71   12  -48   92   74   53   -6  101  -35\n",
      "   -43   21   36   18   15   54  101  -26   15  -79  -25  -19   15  -33\n",
      "    33   41   66   40  -79   65  -88   17  -50   66   11  -22  -31  -50\n",
      "    36   96   37   -8  -13   90   73   92   -1   89   46    9   19  -66\n",
      "     3   91  -53  -29]\n",
      " [  26   56   37  -35  -49  -23   23   17  -28   22   17   30  -16   -3\n",
      "    65  -32   30   52  -12   -2    5    5   58   21    6  -45  -56   44\n",
      "   -36   15   55  -27   32  -26  -36   47    8   87    0   48  -55   46\n",
      "    -8  -57   27    5    4   65   47   55  -24   46   14    6   30    9\n",
      "   -50   27    0  -36  -30  -28  -49   54  -50   14  -42  -17  -36  -13\n",
      "   -21  -11   -7  -39  -18    9   15  -51   42  -31    2   -9   37  -10\n",
      "    -5    7   27    2  -13  -20   29  -30  -32    6   45    4   32  -16\n",
      "   -28  -17 -127  -80  -62  -96 -109  -74  -49   47  -22   -9  -25   11\n",
      "    26   25  -16  -96  -26  -55  -21  -65  -55  -67  -39    9  -18    3\n",
      "    21  -17   -8   14   18   29   39   43    7   48  -74   17  -20  -29\n",
      "   -57  -10  -44  -40   -4  -19  -26    3   28   24   59   28   19    7\n",
      "   -30  -25  -61  -16  -25  -16  -36  -15   54   82  -33   82   23   45\n",
      "    18   86   34    6   54   35   82  -22   44   51   40   15   25   55\n",
      "    47  -33   34   15   85   69   47   87   37   -9   46    7   26  -54\n",
      "    26   26   -5  -11  -76  -68  -28   14   11  -31    9  -47   18  -10\n",
      "    41   24   24   10   27  -10  -79  -47  -46  -27  -36   27  -30  -43\n",
      "    -6   12   24   44  -13  -29   45   -1    1   25   -4  -53   52   -2\n",
      "   -45  -15  -39  -23   -8  -43   66   49   13   38  -45   -3  -24   39\n",
      "    -3    5   22  -51]\n",
      " [   7  -32   83   76  -81   54   -6  -25   42   61  -19   10  122  -77\n",
      "    52  -32  -45  -28  -77   55   40   -3  -88   23  -79  -41  -77   13\n",
      "   -14  -25  -90  120  -12   65   20    4   -1 -101   36  -99   -8    2\n",
      "   -83  -34  -58   43   40   24   32  -94   45  -47  -73   18   95   12\n",
      "   -16  -80  -23   40  -83  -82  103   70  -62  106   42   81  105  117\n",
      "   -56  -39    8   -4  -29   65    8  -78   -1  -73  111  127  -58  122\n",
      "   -86  109  -50   84  -12   90   67  105  122   20  104   98   73  110\n",
      "   -84   77  -34   91   81  -57   49  -23  -26  -31  -77  -63   69   60\n",
      "   -89  126  -37   47  -71   65  -29  -71  -86  -14    9 -118  -73   -1\n",
      "    36  114   94   54   71   33   69    5   -5    4   60   57  -74  -30\n",
      "   -38  -10  -71  -93  -65    1   61   35    8   77  -28   33  -26   12\n",
      "   102   22   74    2  107   14   74   56   10  106   22   99  -79   44\n",
      "    62  -26 -119   18  -26  -82    9  -71   92   33   88  -55   74  -80\n",
      "    40    3   59  100   12  -64   90  -66  -92   33  -33  -72  103   57\n",
      "    26   54  -46   13   17  -74  -12   71   34   87   19  101   91   69\n",
      "   -13  -63   85  -33  -68   99  -80  -42 -113   52  118  -28  103   41\n",
      "    19  -83  -78  -86  -47  -36   86  -98   99  -24   93   39   39  -58\n",
      "   -61   78   42  120  -27  -55    1   98  102   71   -2   54  -65  -31\n",
      "   -72   -1  111  -64]\n",
      " [  35  -48   67   21  -31   57   25   60  -50  -27  -28  -56  -39  -30\n",
      "    51  -29  -35  -67  -72  -32   -4  -61   30  -50   33  -70   30   49\n",
      "    -4   23   44   50  -66   25  -12   29  -21   54   20   15   16  -29\n",
      "   -16  -52  -16  -54  -48   10   63  -22   63   78   61   16   87    4\n",
      "    -5   21    2   -6  -51  -24  -87  -81   18   10   -3   18   92   35\n",
      "    37   92   75   66   80   23   -3  -13  -18  -40    3   42   -4   56\n",
      "     0   16  -15   14  119   83   75   85   45  -30  -44  -58  -10   24\n",
      "    29  -11  -42  -24  -21   30   43   56   67   50   36  -68   -2  -87\n",
      "   -34  -15   65  -60  -32  -13  -33  -33  -40   10   -3  -15  -33   39\n",
      "   -73   55   -4  -15    2   53   22   -9  -18  -49  -60    6   11   65\n",
      "    57   23   30   41   16  -41   -2  -33   10  -28  -11  -89  -64   12\n",
      "    78   59   12    4   -2   31  -69   -2   -6  -35  -57  -15  -61 -127\n",
      "   -39   29   14  -36   89  -30  -74  -85   70   65   -7   13   14    3\n",
      "   -44  -37  -50  -31  -10  -27  -17    6   49  -33  -38  -49   -6    9\n",
      "   -54  -22  -45  -59  -19  -28  -75  -29  -82  -61   64   18  -10  -68\n",
      "    69   56   26   39   25    2  -42  -20  -13  -70  -90   48   64  -81\n",
      "    64  -80  -17    9   41   81   59   42   57    8  -43   17   45  -75\n",
      "    16   46  -43  -86   48   29   59  -43  -56   56   -6    1   30  -46\n",
      "    22  -11  -21  -20]\n",
      " [  71   56  -13  -69   70  -24   66   18   43  -35 -102   -8  -92  -49\n",
      "   -59  -56   89  -45   17   -9   -5  -70   60   22   49  -96  -69   59\n",
      "    -3   -5 -102   31  -13   50   14  -25   43  -28  -25  -13   43  -47\n",
      "   -71   13   51    3  -90   95    5 -105  -55   38  -32  -33   65   -1\n",
      "    -3  -78  -39    4   23   43   62  -13    1   81  -84  -29   51   21\n",
      "     8   11  -32  -13   10   58   88    4   50    0  -38  -96   70  -19\n",
      "    64    5  113  101   38  -65    5    4   24   14  -33  -83   88   -3\n",
      "   -31  -29   71   50  105  105   41   55   11  -75   -8    1   57   28\n",
      "    -7   61   12   -7    6   32  -25  -85  -54    9   18   68  -82 -115\n",
      "   -57  -32    2    0   30  -26   16    0  -97 -127   26   40   30   28\n",
      "    88   50  -27  -87   77   -5    0  -47    8  -41  -85  -39   37   55\n",
      "     1    9  -28 -108 -111   19  -13    3 -117  -63   14  -29  -54   10\n",
      "    68  -66  -45  -30  -15   61   27   38   89    5  -84   -3   -9  -43\n",
      "    23   99   28   33  -68  -81   -6    7   19   47  -77  -90  -45  -16\n",
      "   -13   25   41  -34   50  -49  -13  -22  -39  -36   44  -29   90   67\n",
      "    48  -58    3   58    8   63    9   63   33  -79  -67  -47   65  -87\n",
      "   -32  -47  -42   90  -65   26  -40  -28  -31   19  -81  -82  -60  -78\n",
      "    81   39  -86   73   10   35  -14  -70   10  -59    2  -40   78   72\n",
      "    60  -11   46  -65]\n",
      " [ -36   61  -37    2   55  -54   60   -2   45   87   13  -49   27   -1\n",
      "   -10  -29  -51   91   84   -7   90  -48   32   31   -8   38   53   48\n",
      "    83   41   71   15  -28   19  -44   80  -39  -44   -1  -22  -66  -36\n",
      "   -12   80   62  -22  -35   91   18   43    7  -65   51   41  -32  -13\n",
      "     4   -3  -25   58  -58   43   -8   89  -65   45  -73  -40  -67  -56\n",
      "   -17   28  -93   13   21   42  -44  -69  -55  -57  -25  -55  108  105\n",
      "   -36   12   60   -9   50   20   88  -39   14  -34   19  -13   -7   27\n",
      "    46   74   60   47    0   58   94   89   37  -35  -13   56  -50  -45\n",
      "   -41   54   88   91   72  -51   47  -78  -30  -75  -34   37  -25   24\n",
      "    80  -54   -4   42   -9    9  -51  -72  -44   -5   17   25  -20   88\n",
      "    67   29   60  -68   63  -32  -46  -36   22  -58   23  -27   59  -32\n",
      "    90   59  -11  -27   22  -28   18  -37   29    1  -54  -65  -25  -22\n",
      "   -44    9   45  -36   42  -18   75   54  -49   31   70   32    7   72\n",
      "     2  -44 -100  -47   27   32 -105   50   30   -8  -51   18   22   47\n",
      "   -70  -90   20    9   -2  -13   37  -10   36   85   51  -13   42  -66\n",
      "    67   57  -33   64  -82  -57  -23  -39   60  -11   -7  -62  -33  -60\n",
      "    17   13    6   21   14  -72  -73   32  -71   54  -39  127   -9   41\n",
      "   -29   68  -11   74   70   -1   83   10  -39  -61   43  -31    6   -9\n",
      "   -11  -49   75   59]\n",
      " [ 103   28   19   64  -69  -48   18   54  -50  -79   36    0    2  -40\n",
      "   -87  -57  -56  -84   61   24  -93  104   95   -7  -92  -58   33   60\n",
      "    94  -72  -42  -80   55  121  -36   44   67  -13   47   59   94   39\n",
      "   -46  -13   87   87   70  -43  111   13  -13   54   88  -72   51   67\n",
      "    63   35  103   73  -58   -2   82    4  -76   44  -82   72   96  -24\n",
      "    46  -38   81  -17    6  -93 -110  -53   44   90  -13  -34   92   72\n",
      "    58  -37    7   71 -127  -17  -51   84   -8   83   14   48  -74  -69\n",
      "    77  -77  -69   93   77   -7   95   81 -110   82   -2    9  -19   68\n",
      "    51  -69  -28   53   18 -112   43   22  -97   36   -7   28  -74   39\n",
      "   -51  -62   -3  118  106  -84   43  -63  -27  -39  -98    9   76  -37\n",
      "   -84  101   14  -62  -77   29   28   78   49   82    8  -65   -9   22\n",
      "   -84  -14  -64   -2  103  -97  -57    1  -38   85  -77   47   21   40\n",
      "   -46  -81   90   69  -58   26  -75    4   55    5  -69  -11  -13   64\n",
      "    38  -82  -84  -10   17  -18   33   23  -11  -32    1   44   68  -14\n",
      "   -29   92   31  -69  102  -42  -67  -49 -104   35  -69   62  -57  -90\n",
      "   -32   -1  -10  111  -15 -100   62  -15   23  115   92   -9  -17  -30\n",
      "    81  -61  116   25   94   73   15  -39   43  -15  -86  110   43    7\n",
      "    46  -28   11   -7  -63   57  -47  112   49  -24   18  -54  -41   50\n",
      "   103   -9   97   -1]\n",
      " [ 104    6  -70   -4  -74   77   21   79  -13   21   -2   52 -103   43\n",
      "   -85  120  123   68  -69   80  -20  -27    5   58  114   70   65  -89\n",
      "    80   91   33    9   24   17   54  108  105  -52   27   22   34   89\n",
      "    71  119  -74   96 -102  124  100  -72  -63   49   56  -18    0  111\n",
      "   -78   91  -54  -18   50  -36  -50   68  105  -87  124    0   68   28\n",
      "   -96   61  -72   72   18   17  119   11 -102   57    5  112  -32   26\n",
      "   -88  -59  -88    9  -46  -11   85   91  -25  112   39  -84 -110  106\n",
      "    30   37   83  113   98  100   38   17  -79  -64  124  127  -72  106\n",
      "    32  -79  -13 -105  -75   54   98 -116   54   99   12  -29 -109   99\n",
      "   -41  -47 -108    6   70  -92 -107  -93   46 -109  -49  -94  -57   95\n",
      "   126   25 -108  -72  -31  -34  124  -38  -79   61   97  -82  -47   -5\n",
      "   -68  -62   42  -92  -31   56   73  -16  -79   71  -74    5  -83   48\n",
      "    81  -98   -7   77   78   58  -70   43  -66  -32   53   23  -98   69\n",
      "  -108   52   19  -36   77   71  -50    8  103   61   48   22   80  -43\n",
      "    75  -87  -15  -78  -68   41  -92  -19   73   89   29   61  -63   51\n",
      "    46  -52   92  -17  -27  -73  -11   59  -23  -20  -88   78   10  -65\n",
      "   -85  -96  -95  -71   57   52   21   67   52   84  -81   76  -46  -21\n",
      "   -78   41  -10   88  -22   28   36  -18  122  -30  -65  -37  -55  -42\n",
      "   -66  102  -42   55]]\n"
     ]
    }
   ],
   "execution_count": 24
  },
  {
   "metadata": {
    "ExecuteTime": {
     "end_time": "2024-08-01T19:49:47.617759Z",
     "start_time": "2024-08-01T19:49:47.611232Z"
    }
   },
   "cell_type": "code",
   "source": "print(interpreter.get_tensor(5)) #Layer 1 biases",
   "id": "599a49c591ab97ef",
   "outputs": [
    {
     "name": "stdout",
     "output_type": "stream",
     "text": [
      "[  0  -3   8  -7 -12  -5  -2   3  18   0  14  -8 -16 -14 -12 -11  -4  -5\n",
      "  -6  -8 -17 -13 -10 -11 -11  -9 -17   6   2 -10  -7  -9]\n"
     ]
    }
   ],
   "execution_count": 25
  },
  {
   "metadata": {
    "ExecuteTime": {
     "end_time": "2024-08-01T19:50:20.889963Z",
     "start_time": "2024-08-01T19:50:20.879360Z"
    }
   },
   "cell_type": "code",
   "source": "print(interpreter.get_tensor(4)) #Layer 2 weights",
   "id": "bbb80164ef4128cd",
   "outputs": [
    {
     "name": "stdout",
     "output_type": "stream",
     "text": [
      "[[ -89  -79  -38  -91  124  -19   29  127   -4  -92   -4   59  -61  -23\n",
      "    87  -93  -36   62   32    9    9  -88   49  -56   -8   54  113   54\n",
      "    34   12 -114  103]\n",
      " [-123  -43  -90   53   99  127  -12   26    4 -111  -17    3   68  -63\n",
      "    71   42  101  -71  -46   56   87   95 -119 -110   59   54   95  103\n",
      "   -84   90   19 -110]\n",
      " [ -12  -55   13  -39  -75    5   -7   59   30   88 -127   95   88   21\n",
      "   113  -72  -10    8 -104   60   55  -10   77 -115   45  119   98 -104\n",
      "   -76  -76  -83  -86]\n",
      " [  55  -37  -28  -56 -126  -12  -20    8  -14   83  -83   49  106   65\n",
      "    13  -90  -82   49 -112   82  -22   61   51 -127    6  -71   79  -13\n",
      "   100   28   16 -124]\n",
      " [ -57    1  -31   -8  -13  -48  -33  -19   -9  -31   -4   76   11   92\n",
      "   -36   22   99  -66 -123   95   80  -98  103  -17  -37  115  -93   40\n",
      "  -127  -39  -45   48]\n",
      " [  97  -96  -82   18  101  -73  -60   32  -50  115  -10   14   27  -81\n",
      "   -10 -103  -98  -34   79   19   -1  126  127  -16   -5   43  -64  -43\n",
      "    85  -10  104  -28]\n",
      " [ -74  -29   15   -5  -95   56  -76   10  -72   33  -68   12 -104   18\n",
      "   -52   50   -2   16  -86   41  -11 -106   24   62  127   36  -50   40\n",
      "    19   23   11  -68]\n",
      " [  75   65    3  -31  -87 -116   53   43  -47  100   -7  -75  -89  -39\n",
      "    64  -23   73  -57  127   29  -32   30   67   21    1   46 -107    5\n",
      "    29  -50  -53   55]\n",
      " [-115   62  -76  -23   61 -105    0   58    8    1  -53  -35   32 -119\n",
      "   127   18  117   -1   27   18  -94   59   22   17   69  -54 -102  -22\n",
      "    82  -40  -91   28]\n",
      " [ -17   -4   63   49   24   97  -39   70  -23    4   -4  103   83  -38\n",
      "   119   74   42   71  -29    0   99  -41  -57  -45   71  -64 -127 -125\n",
      "    28  -41   49 -120]\n",
      " [ -63  110   54   96 -103  -33   44   71 -127  -75  -99   93 -109   81\n",
      "    -2  -64   -4   86  -66   10  -87  107  -52  -78    4  -57  -46  -49\n",
      "   -86  126 -115   52]\n",
      " [  84  -64  -71  -61  -80  -17  -23   15   82   37   60  -14  -75  -96\n",
      "   -36  -43  -77 -127 -102   32  101   26   49   77   14  -28  -64   82\n",
      "   -13  -68  -76   44]\n",
      " [-107   73  -88   61   95  -83   59   -3  -97  -50   84  -35  -59 -112\n",
      "  -114   22  127  -20  -60  -43   -5  -61   26    5   90   27   31  -31\n",
      "    52 -104   70  -58]\n",
      " [-115  -31  108  124  -17   56  -88  100 -105 -127  -10  -30  -92   65\n",
      "    22   22   95   72  -37    0 -119  -82    7  101  -99   71   -7   76\n",
      "  -106  -96  -96  -24]\n",
      " [ -45 -101  -93   87  -67  -12  -49  -24   78   -1  -65  -88  -68  105\n",
      "    53  -53   51  -26  -89   42  -36  -59   81  -82   95  127  -87  -47\n",
      "   -94   48   23   60]\n",
      " [  -6   78   96  -48  -99   60    4  -31  -97   13  -31   -8    8   -2\n",
      "    34  127    9  -36   49  -39 -101  -73   -2  107  -93  -36   11   45\n",
      "    34  110  109  -74]\n",
      " [ 104   56  -63   36   82   55    5  -68  -49   59   46   32  -66  -21\n",
      "  -109  -68   97  -49   43 -103    3  -51   32  -23  110   47  -87  -23\n",
      "  -127   25  -56  -97]\n",
      " [ -62  -67   87  -66  112 -105  -80  127  -99  -49    2  103  -70  -16\n",
      "    56  -56 -113  -21  -52   71  -71  108  -37 -102  -90 -106   89  -70\n",
      "   -63   79  -75  -91]\n",
      " [  74 -106   87 -122  -14  -29  -89   87 -110   -4  -29  -35   91   97\n",
      "  -108  119  -81   48  -57  -66  103  -62   -2  -75 -124  103 -124  -49\n",
      "    35   62  -34  127]\n",
      " [ -15 -127    2   50  -57   26  -58  -89  -56 -119   61   39 -106  -15\n",
      "   -11  -86   29   16  -81  -55  -52  -85  116   41  -40  -89   14   90\n",
      "  -126   56   15   41]\n",
      " [  57  -47   55  -20  -94 -127   22   86 -110  -17 -121  -11  114   90\n",
      "   -77   -1   53   76  -38   -8 -123  -13  120   13 -114  117   11 -104\n",
      "   -23   68   -8  -80]\n",
      " [   2  -44  -40   20  -56  -46  -18  -24   59   34   34  -58   -1 -108\n",
      "  -127  -71 -117  -22   37   68  -19  119   53  -23 -118  107  -77   41\n",
      "    26   94   69 -119]\n",
      " [ 103  -28 -117 -121  117   33   -7  -55  -99  -32   64  -19 -101   58\n",
      "    60  -27   43  -70   70   73   -8 -127 -118   61 -100    4  -92  -20\n",
      "    -2  -79  -81  -62]\n",
      " [  -5  -25  -37   96  119 -103   84  -71  -65  -15   55    5 -106   81\n",
      "   -69   24   30   12    2  -48   93  -76  -44   10   64  -48   -2   -6\n",
      "    72   88 -127   41]\n",
      " [  79  -69   54   10   79   -9  -17   -5   38  -35  -66  -32  -21   77\n",
      "   -42  -42  -47  -45   13  -59   80   67    9   51  -76 -127  -24    2\n",
      "    35  -32   -1   73]\n",
      " [  67   52   47  -14   85  -83   26  -21  -77   45   60  -15  -50  -88\n",
      "    90  -24   48 -125  -20  -29   21  -59  -25  111  123  -55 -105   -2\n",
      "   -58  113   54  127]\n",
      " [   7   79  -49   73   76   62   24  -60    8  -76   21  103 -117  -68\n",
      "   -81   39  107   23 -107   21 -127  -72  -76   42    7   43  -81 -110\n",
      "   -86   55 -107   90]\n",
      " [ -92  -74  -90  -52   33  108  -21   31   87  113   75   -4  -36  -41\n",
      "    28  -41 -127   81    9   38   54   11  -74  -64  -47   32  117  100\n",
      "    37  102  115   49]\n",
      " [ 114   82 -107   15 -127  -39  -56  -21  -38   29  -77  -80    8  -40\n",
      "    16   52    2   -8   91   -9  107   90   17   18  -23   -4  -51  -91\n",
      "   -43  -28   62  115]\n",
      " [  42  -70  -52   11  -67 -112   15   69    0  -35 -127   15 -105  -58\n",
      "    38  -20   61  -52  -20   11  -64   66    8  -41   55   36  -12   78\n",
      "    38   87  -39   53]\n",
      " [ -73  -63 -115   90  111  -54   64  -62  -65 -127  -83  -34 -117  -45\n",
      "    22  -14 -101  117   62  106  -54  -66  -57  100 -103    1    9   63\n",
      "    40  -73   96  -27]\n",
      " [ -55   88  -80  -40  -63   21   48  -13 -127   74  -27   21   97    2\n",
      "    41   57  -55   70  -20  -85   33  -22    6  -99  -88  -47   98  -65\n",
      "    10  -14   15  -85]]\n"
     ]
    }
   ],
   "execution_count": 26
  },
  {
   "metadata": {
    "ExecuteTime": {
     "end_time": "2024-08-01T19:50:37.197833Z",
     "start_time": "2024-08-01T19:50:37.175344Z"
    }
   },
   "cell_type": "code",
   "source": "print(interpreter.get_tensor(3)) #Layer 2 biases",
   "id": "6e277e80bb0def54",
   "outputs": [
    {
     "name": "stdout",
     "output_type": "stream",
     "text": [
      "[ 14  -4 -34  -1 -34  -8 -23  -4  -3  15  -5   0 -11  -2 -18 -13 -44  -1\n",
      " -19 -26 -12 -16 -24   0 -17  -7 -13  -8 -27 -10 -33 -16]\n"
     ]
    }
   ],
   "execution_count": 27
  },
  {
   "metadata": {
    "ExecuteTime": {
     "end_time": "2024-08-01T19:50:50.056971Z",
     "start_time": "2024-08-01T19:50:50.049705Z"
    }
   },
   "cell_type": "code",
   "source": "print(interpreter.get_tensor(2)) #Layer 3 weights",
   "id": "ac2a5c77ff4eb289",
   "outputs": [
    {
     "name": "stdout",
     "output_type": "stream",
     "text": [
      "[[-127  -46    6   36  -94   48   67   40   19    0 -108  -28   12  -48\n",
      "    -8  -19   66   41  -59  -21  -68  -45  -67  -22   35  -18  -45   23\n",
      "     6  -60  -49    3]\n",
      " [ -92  -43  -33   26  -80  -15 -109    5   69    7  -50  -56  -99  -66\n",
      "   -63  -23  -11  -42 -127   12  -58   82  -70  -94   49  -70   10  -47\n",
      "    54  -97  -96   -1]\n",
      " [ -47    7    8  -31   44  -39   27   23   31   13   42  -16  -11  -30\n",
      "    47   -6    3   39 -127  -43  -39   54  -33  -48   11  -14    1  -30\n",
      "   -61  -26   45    7]\n",
      " [ -82   73  -43   97    4    4  -63   50   63    5  -90   49  -99   36\n",
      "    82   -9    3   21  -12   73  -90    4  -40 -127   62  -25  -18  -74\n",
      "   -62   58    6   15]\n",
      " [ -78   60  -34  -79  -11   30  -43   37  -13    2  -37  -33  -22  -59\n",
      "   -44  -14   -6    3  -40  -18   -6   48   44   21   42   -5  -26  -43\n",
      "   -48 -127   28  -42]\n",
      " [ -39 -114   -6   -3  -31   -6   -2   11   40   21  -14  -29  -15   31\n",
      "    18   -3 -127   84   38  -83   13  -40  -77   -2   36  -11    9   23\n",
      "    57    6   33  -81]\n",
      " [ -67  -38    9  -77    3 -107  -67   55   27   22   32    7   -1  -34\n",
      "  -127  -40   54   24  -32  -10  -39    7    9   16   27  -21    3  -43\n",
      "    39  -95   15  -50]\n",
      " [ -74  -70 -103  -43  -23   15   49    7   30   -1  -56  -43 -111  -44\n",
      "  -127   32  -20  -54  -65  -19   -6   53  -38   12   22  -43  -18  -18\n",
      "    77  -92  -23   55]\n",
      " [ -69   -4  -27  -54 -127  -75  -29   13   19   21  -74  -18  -13   18\n",
      "    12  -12  -21  -10  -16   18   47   32   10    2   27   -2   -9  -19\n",
      "   -31 -119  -34  -36]\n",
      " [ -52   -5 -113  -40  -55  -80  -42    8    6    5  -43  -30  -60   12\n",
      "  -117    7   -9  -19   -2   47  -53   17   21  -16   36    0  -47  -11\n",
      "    57 -127    3  -20]]\n"
     ]
    }
   ],
   "execution_count": 28
  },
  {
   "metadata": {
    "ExecuteTime": {
     "end_time": "2024-08-01T19:51:16.092353Z",
     "start_time": "2024-08-01T19:51:16.086584Z"
    }
   },
   "cell_type": "code",
   "source": "print(interpreter.get_tensor(1)) #Layer 3 biases",
   "id": "9f362ce07509cbb0",
   "outputs": [
    {
     "name": "stdout",
     "output_type": "stream",
     "text": [
      "[-31  45  14  -7 -18  40  37 -36  29 -15]\n"
     ]
    }
   ],
   "execution_count": 29
  },
  {
   "metadata": {},
   "cell_type": "code",
   "outputs": [],
   "execution_count": null,
   "source": "",
   "id": "8d6fa150b09b9a2b"
  }
 ],
 "metadata": {
  "kernelspec": {
   "display_name": "Python 3",
   "language": "python",
   "name": "python3"
  },
  "language_info": {
   "codemirror_mode": {
    "name": "ipython",
    "version": 2
   },
   "file_extension": ".py",
   "mimetype": "text/x-python",
   "name": "python",
   "nbconvert_exporter": "python",
   "pygments_lexer": "ipython2",
   "version": "2.7.6"
  }
 },
 "nbformat": 4,
 "nbformat_minor": 5
}
